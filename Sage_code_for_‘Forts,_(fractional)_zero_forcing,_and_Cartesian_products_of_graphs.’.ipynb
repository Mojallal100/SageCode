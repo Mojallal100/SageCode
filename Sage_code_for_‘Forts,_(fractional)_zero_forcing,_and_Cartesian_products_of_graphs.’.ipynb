{
 "cells": [
  {
   "cell_type": "markdown",
   "id": "b46225e3",
   "metadata": {},
   "source": [
    "$$\n",
    "\\def\\CC{\\bf C}\n",
    "\\def\\QQ{\\bf Q}\n",
    "\\def\\RR{\\bf R}\n",
    "\\def\\ZZ{\\bf Z}\n",
    "\\def\\NN{\\bf N}\n",
    "$$\n",
    "1.  Ahmad Mojallal created this worksheet.\n",
    "\n",
    "The Sage Code for obtaining all minimal forts of a graph.\n",
    "\n",
    "Important Notice: The input graph $G$ of order n must be labeled as\n",
    "0,1,2, ..., n-1."
   ]
  },
  {
   "cell_type": "code",
   "execution_count": null,
   "id": "b902a3b2",
   "metadata": {},
   "outputs": [
    {
     "data": {
      "text/plain": [
       "Minimal forts of g are [{0, 1, 3, 8}, {0, 1, 9, 7}, {0, 2, 3, 5}, {0, 2, 4, 7}, {0, 8, 2, 9}, {0, 3, 6, 7}, {0, 8, 4, 6}, {0, 9, 5, 6}, {1, 2, 4, 9}, {8, 1, 2, 5}, {1, 3, 4, 6}, {1, 3, 5, 9}, {8, 1, 4, 7}, {1, 5, 6, 7}, {9, 2, 3, 6}, {2, 4, 5, 6}, {8, 2, 6, 7}, {3, 4, 5, 7}, {8, 9, 3, 7}, {8, 9, 4, 5}]    \n",
       "The vertex set of fort hypergraph =  [0, 1, 2, 3, 4, 5, 6, 7, 8, 9]    \n",
       "The number of minimal forts m =  20    \n",
       "The size of vertex set of fort hypergraph n' =  10    \n",
       "Maximum Degree =  8    \n",
       "Minimum Degree =  8    "
      ]
     },
     "execution_count": 1,
     "metadata": {},
     "output_type": "execute_result"
    }
   ],
   "source": [
    "g= graphs.PetersenGraph();g.show();\n",
    "n=g.order();V=Set(range(0,n));#V.list()\n",
    "S2=Subsets(V);\n",
    "A=g.adjacency_matrix();#A\n",
    "F=[];\n",
    "for W in S2:\n",
    "    if W.cardinality()>1:\n",
    "        D=[];\n",
    "        for j in V-W:\n",
    "            d=0;\n",
    "            for k in W:\n",
    "                if A[j,k]==1:\n",
    "                    d+=1; \n",
    "            D.append(d)\n",
    "        s=0;\n",
    "        #print D\n",
    "        for i in D: \n",
    "            if i==1:\n",
    "                s+=1;\n",
    "        #print s        \n",
    "        if s==0:\n",
    "            F.append(W);\n",
    "        #print\"****************\" \n",
    "MF=[];\n",
    "for w in F:\n",
    "    r=0;\n",
    "    for f in Subsets(w):\n",
    "        if f.cardinality()<w.cardinality() and f in F:\n",
    "            r+=1;\n",
    "    if r==0:\n",
    "        MF.append(w);    \n",
    " \n",
    "B=[];\n",
    "for i in range(0,n):\n",
    "    j=0;\n",
    "    for s in MF:\n",
    "        if i in s:\n",
    "            j+=1;\n",
    "    B.append(j)  \n",
    "VF=[];#VF is the set of vertices of fort hypergraph\n",
    "for i in range(0,n):\n",
    "    if B[i]!=0:\n",
    "        VF.append(i)\n",
    "C=[];\n",
    "for i in VF:\n",
    "    j=0;\n",
    "    for s in MF:\n",
    "        if i in s:\n",
    "            j+=1;\n",
    "    C.append(j) \n",
    "minni=n;maxxi=2;#minni is min degree and maxxi is max degree of a vertex in fort hypergraph\n",
    "for s in MF:\n",
    "    if len(s)<=minni:\n",
    "        minni=len(s);\n",
    "    if len(s)>=maxxi: \n",
    "        maxxi=len(s);   \n",
    "print\"Minimal forts of g are\", MF\n",
    "print\"The vertex set of fort hypergraph = \",VF   \n",
    "print\"The number of minimal forts m = \", len(MF) ; \n",
    "print\"The size of vertex set of fort hypergraph n' = \",len(VF);  \n",
    "C.sort();MM=C[len(C)-1];mm=C[0];    \n",
    "print\"Maximum Degree = \", MM\n",
    "print\"Minimum Degree = \", mm"
   ]
  },
  {
   "cell_type": "markdown",
   "id": "5f022165",
   "metadata": {},
   "source": [
    "The Code for Zero-Forcing Sets of a graph"
   ]
  },
  {
   "cell_type": "code",
   "execution_count": null,
   "id": "56746641",
   "metadata": {},
   "outputs": [
    {
     "data": {
      "text/plain": [
       "Loading Zq_c.pyx...    \n",
       "Compiling /home/crypto/.sage/temp/Crypto/25064/tmp_UpCvbN.pyx...    \n",
       "Loading Zq.py...    \n",
       "Loading zero_forcing_64.pyx...    \n",
       "Compiling /home/crypto/.sage/temp/Crypto/25064/tmp_sqUNf4.pyx...    \n",
       "Loading zero_forcing_wavefront.pyx...    \n",
       "Compiling /home/crypto/.sage/temp/Crypto/25064/tmp_IAs2xg.pyx...    \n",
       "Loading minrank.py...    \n",
       "Loading inertia.py...    "
      ]
     },
     "execution_count": 1,
     "metadata": {},
     "output_type": "execute_result"
    }
   ],
   "source": [
    "URL='https://raw.githubusercontent.com/jephianlin/mr_JG/py2/'\n",
    "files=['Zq_c.pyx','Zq.py','zero_forcing_64.pyx','zero_forcing_wavefront.pyx','minrank.py', 'inertia.py']\n",
    "for f in files:\n",
    "    print(\"Loading %s...\"%f);\n",
    "    load(URL+f)"
   ]
  },
  {
   "cell_type": "markdown",
   "id": "c6a7e1b0",
   "metadata": {},
   "source": [
    "Graphs G' such that Z( K\\_2 \u25a1 G \u2032 ) = Z( G \u2032 ) + 1 for n=9;"
   ]
  },
  {
   "cell_type": "code",
   "execution_count": null,
   "id": "0a896fcf",
   "metadata": {},
   "outputs": [],
   "source": [
    "n=9; ss=0;zz=[];kk=[];hh=[];\n",
    "#GL=list(graphs(n, lambda G: G.size()<= 10, augment='vertices'));\n",
    "GL=list( graphs(n));\n",
    "k2=graphs.CompleteGraph(2);\n",
    "#L=list( graphs(n,lambda G: G.is_bipartite()));\n",
    "#Tree=graphs.trees(n);\n",
    "for g in GL:\n",
    "    if g.order()>=2 and g.is_connected():\n",
    "        zz.append(g)        \n",
    "        \n",
    "#graphs_list.show_graphs(zz)\n",
    "for g in zz:\n",
    "    lb=zero_forcing_set_wavefront(g)[0]+1;\n",
    "    T=k2.cartesian_product(g);zfT=zero_forcing_set_wavefront(T)[0];\n",
    "    if zfT==lb:\n",
    "        kk.append(g);\n",
    "     \n",
    "for g in kk:\n",
    "    show(g)"
   ]
  },
  {
   "cell_type": "markdown",
   "id": "1fd59268",
   "metadata": {},
   "source": [
    "Graphs G' such that Z( K\\_2 \u25a1 G \u2032 ) = Z( G \u2032 ) + 1 for n=8;"
   ]
  },
  {
   "cell_type": "code",
   "execution_count": null,
   "id": "7f49556f",
   "metadata": {},
   "outputs": [],
   "source": [
    "n=8; ss=0;zz=[];kk=[];hh=[];\n",
    "#GL=list(graphs(n, lambda G: G.size()<= 10, augment='vertices'));\n",
    "GL=list( graphs(n));\n",
    "k2=graphs.CompleteGraph(2);\n",
    "#L=list( graphs(n,lambda G: G.is_bipartite()));\n",
    "#Tree=graphs.trees(n);\n",
    "for g in GL:\n",
    "    if g.order()>=2 and g.is_connected():\n",
    "        zz.append(g)        \n",
    "        \n",
    "#graphs_list.show_graphs(zz)\n",
    "for g in zz:\n",
    "    lb=zero_forcing_set_wavefront(g)[0]+1;\n",
    "    T=k2.cartesian_product(g);zfT=zero_forcing_set_wavefront(T)[0];\n",
    "    if zfT==lb:\n",
    "        kk.append(g);\n",
    "     \n",
    "for g in kk:\n",
    "    show(g)"
   ]
  },
  {
   "cell_type": "markdown",
   "id": "b2278220",
   "metadata": {},
   "source": [
    "Graphs G' such that Z( K\\_2 \u25a1 G \u2032 ) = Z( G \u2032 ) + 1 for n=7;"
   ]
  },
  {
   "cell_type": "code",
   "execution_count": null,
   "id": "63c726fa",
   "metadata": {},
   "outputs": [],
   "source": [
    "n=7; ss=0;zz=[];kk=[];hh=[];\n",
    "#GL=list(graphs(n, lambda G: G.size()<= 10, augment='vertices'));\n",
    "GL=list( graphs(n));\n",
    "k2=graphs.CompleteGraph(2);\n",
    "#L=list( graphs(n,lambda G: G.is_bipartite()));\n",
    "#Tree=graphs.trees(n);\n",
    "for g in GL:\n",
    "    if g.order()>=2 and g.is_connected():\n",
    "        zz.append(g)        \n",
    "        \n",
    "#graphs_list.show_graphs(zz)\n",
    "for g in zz:\n",
    "    lb=zero_forcing_set_wavefront(g)[0]+1;\n",
    "    T=k2.cartesian_product(g);zfT=zero_forcing_set_wavefront(T)[0];\n",
    "    if zfT==lb:\n",
    "        kk.append(g);\n",
    "     \n",
    "for g in kk:\n",
    "    show(g)"
   ]
  },
  {
   "cell_type": "markdown",
   "id": "ad6dfc4c",
   "metadata": {},
   "source": [
    "Graphs G' such that Z( K\\_2 \u25a1 G \u2032 ) = Z( G \u2032 ) + 1 for n=6;"
   ]
  },
  {
   "cell_type": "code",
   "execution_count": null,
   "id": "798a01f1",
   "metadata": {},
   "outputs": [],
   "source": [
    "n=6; ss=0;zz=[];kk=[];hh=[];\n",
    "#GL=list(graphs(n, lambda G: G.size()<= 10, augment='vertices'));\n",
    "GL=list( graphs(n));\n",
    "k2=graphs.CompleteGraph(2);\n",
    "#L=list( graphs(n,lambda G: G.is_bipartite()));\n",
    "#Tree=graphs.trees(n);\n",
    "for g in GL:\n",
    "    if g.order()>=2 and g.is_connected():\n",
    "        zz.append(g)        \n",
    "        \n",
    "#graphs_list.show_graphs(zz)\n",
    "for g in zz:\n",
    "    lb=zero_forcing_set_wavefront(g)[0]+1;\n",
    "    T=k2.cartesian_product(g);zfT=zero_forcing_set_wavefront(T)[0];\n",
    "    if zfT==lb:\n",
    "        kk.append(g);\n",
    "     \n",
    "for g in kk:\n",
    "    show(g)"
   ]
  },
  {
   "cell_type": "markdown",
   "id": "271017bd",
   "metadata": {},
   "source": [
    "Graphs G' such that Z( K\\_2 \u25a1 G \u2032 ) = Z( G \u2032 ) + 1 for n=5;"
   ]
  },
  {
   "cell_type": "code",
   "execution_count": null,
   "id": "58a0dc84",
   "metadata": {},
   "outputs": [],
   "source": [
    "n=5; ss=0;zz=[];kk=[];hh=[];\n",
    "#GL=list(graphs(n, lambda G: G.size()<= 10, augment='vertices'));\n",
    "GL=list( graphs(n));\n",
    "k2=graphs.CompleteGraph(2);\n",
    "#L=list( graphs(n,lambda G: G.is_bipartite()));\n",
    "#Tree=graphs.trees(n);\n",
    "for g in GL:\n",
    "    if g.order()>=2 and g.is_connected():\n",
    "        zz.append(g)        \n",
    "        \n",
    "#graphs_list.show_graphs(zz)\n",
    "for g in zz:\n",
    "    lb=zero_forcing_set_wavefront(g)[0]+1;\n",
    "    T=k2.cartesian_product(g);zfT=zero_forcing_set_wavefront(T)[0];\n",
    "    if zfT==lb:\n",
    "        kk.append(g);\n",
    "     \n",
    "for g in kk:\n",
    "    show(g)"
   ]
  },
  {
   "cell_type": "markdown",
   "id": "4a9a4aa8",
   "metadata": {},
   "source": [
    "Graphs G' such that Z( K\\_2 \u25a1 G \u2032 ) = Z( G \u2032 ) + 1 for n=4;"
   ]
  },
  {
   "cell_type": "code",
   "execution_count": null,
   "id": "99fa729f",
   "metadata": {},
   "outputs": [],
   "source": [
    "n=4; ss=0;zz=[];kk=[];hh=[];\n",
    "#GL=list(graphs(n, lambda G: G.size()<= 10, augment='vertices'));\n",
    "GL=list( graphs(n));\n",
    "k2=graphs.CompleteGraph(2);\n",
    "#L=list( graphs(n,lambda G: G.is_bipartite()));\n",
    "#Tree=graphs.trees(n);\n",
    "for g in GL:\n",
    "    if g.order()>=2 and g.is_connected():\n",
    "        zz.append(g)        \n",
    "        \n",
    "#graphs_list.show_graphs(zz)\n",
    "for g in zz:\n",
    "    lb=zero_forcing_set_wavefront(g)[0]+1;\n",
    "    T=k2.cartesian_product(g);zfT=zero_forcing_set_wavefront(T)[0];\n",
    "    if zfT==lb:\n",
    "        kk.append(g);\n",
    "     \n",
    "for g in kk:\n",
    "    show(g)"
   ]
  },
  {
   "cell_type": "markdown",
   "id": "9066c62a",
   "metadata": {},
   "source": [
    "Graphs G' such that Z( K\\_2 \u25a1 G \u2032 ) = Z( G \u2032 ) + 1 for n=3;"
   ]
  },
  {
   "cell_type": "code",
   "execution_count": null,
   "id": "1e30d235",
   "metadata": {},
   "outputs": [],
   "source": [
    "n=3; ss=0;zz=[];kk=[];hh=[];\n",
    "#GL=list(graphs(n, lambda G: G.size()<= 10, augment='vertices'));\n",
    "GL=list( graphs(n));\n",
    "k2=graphs.CompleteGraph(2);\n",
    "#L=list( graphs(n,lambda G: G.is_bipartite()));\n",
    "#Tree=graphs.trees(n);\n",
    "for g in GL:\n",
    "    if g.order()>=2 and g.is_connected():\n",
    "        zz.append(g)        \n",
    "        \n",
    "#graphs_list.show_graphs(zz)\n",
    "for g in zz:\n",
    "    lb=zero_forcing_set_wavefront(g)[0]+1;\n",
    "    T=k2.cartesian_product(g);zfT=zero_forcing_set_wavefront(T)[0];\n",
    "    if zfT==lb:\n",
    "        kk.append(g);\n",
    "     \n",
    "for g in kk:\n",
    "    show(g)"
   ]
  }
 ],
 "metadata": {
  "kernelspec": {
   "display_name": "sagemath",
   "name": "sagemath"
  }
 },
 "nbformat": 4,
 "nbformat_minor": 5
}

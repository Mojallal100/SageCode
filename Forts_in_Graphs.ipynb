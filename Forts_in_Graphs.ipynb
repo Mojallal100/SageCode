{
 "cells": [
  {
   "cell_type": "markdown",
   "id": "785f06a0",
   "metadata": {},
   "source": [
    "$$\n",
    "\\def\\CC{\\bf C}\n",
    "\\def\\QQ{\\bf Q}\n",
    "\\def\\RR{\\bf R}\n",
    "\\def\\ZZ{\\bf Z}\n",
    "\\def\\NN{\\bf N}\n",
    "$$\n",
    "# Please write a title for this worksheet!"
   ]
  },
  {
   "cell_type": "code",
   "execution_count": null,
   "id": "36905be1",
   "metadata": {},
   "outputs": [
    {
     "data": {
      "text/plain": [
       "xrange test passed    \n",
       "Loading Zq_c.pyx...    \n",
       "Compiling /home/crypto/.sage/temp/Crypto/15897/tmp_7RT4IS.pyx...    \n",
       "Loading Zq.py...    \n",
       "Loading zero_forcing_64.pyx...    \n",
       "Compiling /home/crypto/.sage/temp/Crypto/15897/tmp_wX_yC6.pyx...    \n",
       "Loading zero_forcing_wavefront.pyx...    \n",
       "Compiling /home/crypto/.sage/temp/Crypto/15897/tmp_dlDmG3.pyx...    \n",
       "Loading minrank.py...    \n",
       "Loading inertia.py...    \n",
       "Loading general_Lib.sage...    \n",
       "---sshow, multi_sshow, tuple_generator, minimal_graphs, empty_array, all_one_matrix, elementary_matrix, eigens_multi, sort_dictionary, has_minor, etc.    \n",
       "Loading oc_diag_analysis.sage...    \n",
       "---gZ_leq, find_gZ, find_EZ, diagonal_analysis, etc.    \n",
       "Loading xi_dict.py...    \n",
       "---SAPreduced_matrix, has_SAP, find_ZFloor, Zsap, etc.    \n",
       "Loading mu_dict.py...    \n",
       "---get_mu_from_dict, find_mu, etc.    \n",
       "Loading SXP.sage...    \n",
       "This code contains extra copy of Z_game, Zell_game, Zplus_game, for the completeness of Zsap_game program.    \n",
       "Loading matrix_forcing.py...    "
      ]
     },
     "execution_count": 1,
     "metadata": {},
     "output_type": "execute_result"
    }
   ],
   "source": [
    "load(\"https://raw.githubusercontent.com/jephianlin/minrank_aux/master/load_all.py\")\n",
    "load_all()"
   ]
  },
  {
   "cell_type": "code",
   "execution_count": null,
   "id": "314ada3c",
   "metadata": {},
   "outputs": [],
   "source": [
    "G=graphs.CompleteBipartiteGraph(2, 2);H=graphs.CycleGraph(4);\n",
    "g=H.cartesian_product(H);show(g)"
   ]
  },
  {
   "cell_type": "code",
   "execution_count": null,
   "id": "eeb37e70",
   "metadata": {},
   "outputs": [],
   "source": [
    "g= graphs.PetersenGraph();g.show();\n",
    "g.add_edges([(0, 10), (1, 10), (2, 10), (3, 10), (4, 10), (5, 10), (6, 10), (7, 10), (8, 10), (9, 10)]);g.show();"
   ]
  },
  {
   "cell_type": "markdown",
   "id": "8f6bf318",
   "metadata": {},
   "source": [
    "Relabelling from zero"
   ]
  },
  {
   "cell_type": "code",
   "execution_count": null,
   "id": "559459e0",
   "metadata": {},
   "outputs": [
    {
     "data": {
      "text/plain": [
       "[0, 1, 2, 3, 4, 5, 6, 7, 8, 9, 10, 11, 12, 13, 14, 15]    "
      ]
     },
     "execution_count": 1,
     "metadata": {},
     "output_type": "execute_result"
    }
   ],
   "source": [
    "k=0;\n",
    "for i in g.vertices():\n",
    "    g.relabel({i:k});\n",
    "    k+=1;\n",
    "print g.vertices();g.show()"
   ]
  },
  {
   "cell_type": "code",
   "execution_count": null,
   "id": "a61baf23",
   "metadata": {},
   "outputs": [
    {
     "data": {
      "text/plain": [
       "The number of minimal forts of g is 70    \n",
       "Minimal forts of g are [{0, 8, 2, 4}, {0, 2, 12, 6}, {0, 12, 10, 4}, {0, 8, 10, 6}, {11, 1, 3, 5}, {1, 3, 13, 9}, {1, 9, 5, 7}, {1, 11, 13, 7}, {2, 4, 10, 6}, {8, 2, 12, 10}, {3, 13, 5, 7}, {11, 9, 3, 7}, {8, 12, 4, 6}, {9, 11, 5, 13}, {0, 1, 3, 4, 6, 8, 11}, {0, 1, 3, 4, 7, 8, 11}, {0, 1, 3, 6, 7, 9, 12}, {0, 1, 3, 6, 8, 9, 11}, {0, 1, 3, 6, 8, 9, 12}, {0, 1, 4, 6, 7, 9, 12}, {0, 1, 4, 7, 8, 11, 12}, {0, 1, 4, 7, 9, 11, 12}, {0, 2, 3, 5, 8, 9, 11}, {0, 2, 3, 5, 8, 10, 11}, {0, 2, 3, 6, 8, 9, 11}, {0, 2, 3, 6, 9, 10, 13}, {0, 2, 3, 6, 9, 11, 13}, {0, 2, 4, 6, 9, 11, 13}, {0, 2, 4, 7, 9, 11, 12}, {0, 2, 4, 7, 9, 11, 13}, {0, 2, 4, 7, 10, 11, 13}, {0, 2, 5, 7, 9, 10, 12}, {0, 2, 5, 7, 9, 11, 12}, {0, 2, 5, 8, 9, 11, 12}, {0, 3, 4, 6, 7, 10, 13}, {0, 3, 4, 7, 8, 10, 11}, {0, 3, 4, 7, 10, 11, 13}, {0, 3, 5, 7, 8, 10, 11}, {0, 3, 5, 7, 8, 10, 12}, {0, 3, 5, 7, 9, 10, 12}, {0, 3, 6, 7, 9, 10, 12}, {0, 3, 6, 7, 9, 10, 13}, {1, 2, 4, 5, 8, 11, 12}, {1, 2, 4, 5, 8, 11, 13}, {1, 2, 4, 6, 8, 11, 13}, {1, 2, 4, 6, 9, 11, 13}, {1, 2, 4, 6, 9, 12, 13}, {1, 2, 5, 6, 8, 9, 12}, {1, 2, 5, 6, 9, 12, 13}, {1, 2, 5, 8, 9, 11, 12}, {1, 3, 4, 6, 7, 10, 13}, {1, 3, 4, 6, 8, 10, 13}, {1, 3, 4, 6, 8, 11, 13}, {1, 3, 5, 6, 8, 9, 12}, {1, 3, 5, 6, 8, 10, 12}, {1, 3, 5, 6, 8, 10, 13}, {1, 3, 5, 7, 8, 10, 12}, {1, 4, 5, 7, 8, 10, 12}, {1, 4, 5, 7, 8, 11, 12}, {1, 4, 5, 7, 10, 12, 13}, {1, 4, 6, 7, 9, 12, 13}, {1, 4, 6, 7, 10, 12, 13}, {2, 3, 5, 6, 8, 10, 13}, {2, 3, 5, 6, 9, 10, 13}, {2, 3, 5, 8, 10, 11, 13}, {2, 4, 5, 7, 10, 11, 13}, {2, 4, 5, 7, 10, 12, 13}, {2, 4, 5, 8, 10, 11, 13}, {2, 5, 6, 9, 10, 12, 13}, {2, 5, 7, 9, 10, 12, 13}]    "
      ]
     },
     "execution_count": 1,
     "metadata": {},
     "output_type": "execute_result"
    }
   ],
   "source": [
    "g= graphs.HeawoodGraph();g.show();\n",
    "n=g.order();V=Set(range(0,n));#V.list()\n",
    "S2=Subsets(V);\n",
    "A=g.adjacency_matrix();#A\n",
    "F=[];\n",
    "for W in S2:\n",
    "    if W.cardinality()>1:\n",
    "        D=[];\n",
    "        for j in V-W:\n",
    "            d=0;\n",
    "            for k in W:\n",
    "                if A[j,k]==1:\n",
    "                    d+=1; \n",
    "            D.append(d)\n",
    "        s=0;\n",
    "        #print D\n",
    "        for i in D: \n",
    "            if i==1:\n",
    "                s+=1;\n",
    "        #print s        \n",
    "        if s==0:\n",
    "            F.append(W);\n",
    "        #print\"****************\" \n",
    "MF=[];\n",
    "for w in F:\n",
    "    r=0;\n",
    "    for f in Subsets(w):\n",
    "        if f.cardinality()<w.cardinality() and f in F:\n",
    "            r+=1;\n",
    "    if r==0:\n",
    "        MF.append(w);    \n",
    "print\"The number of minimal forts of g is\", len(MF)        \n",
    "print\"Minimal forts of g are\", MF"
   ]
  },
  {
   "cell_type": "code",
   "execution_count": null,
   "id": "a00870b0",
   "metadata": {},
   "outputs": [
    {
     "data": {
      "text/plain": [
       "[3, 1.414213562373095?, 1.414213562373095?, 1.414213562373095?, 1.414213562373095?, 1.414213562373095?, 1.414213562373095?, -1.414213562373095?, -1.414213562373095?, -1.414213562373095?, -1.414213562373095?, -1.414213562373095?, -1.414213562373095?, -3]    "
      ]
     },
     "execution_count": 1,
     "metadata": {},
     "output_type": "execute_result"
    }
   ],
   "source": [
    "g.spectrum()"
   ]
  },
  {
   "cell_type": "code",
   "execution_count": null,
   "id": "7830feb7",
   "metadata": {},
   "outputs": [
    {
     "data": {
      "text/plain": [
       "(8, 10)    "
      ]
     },
     "execution_count": 1,
     "metadata": {},
     "output_type": "execute_result"
    }
   ],
   "source": [
    "minrank_bounds(g)"
   ]
  },
  {
   "cell_type": "code",
   "execution_count": null,
   "id": "a288ad12",
   "metadata": {},
   "outputs": [
    {
     "data": {
      "text/plain": [
       "The number of minimal forts of g is 5    \n",
       "Minimal forts of g are [{0, 1, 3}, {0, 2, 3}, {0, 2, 4}, {1, 2, 4}, {1, 3, 4}]    "
      ]
     },
     "execution_count": 1,
     "metadata": {},
     "output_type": "execute_result"
    }
   ],
   "source": [
    "#g=graphs.LollipopGraph(3, 1);show(g);\n",
    "#g=graphs.LadderGraph(4);show(g);\n",
    "#g=graphs.PetersenGraph();\n",
    "#g=Graph({0:[2,1,3],3:[4,5]});show(g);\n",
    "#g=Graph({0:[3,1,2,4,5],2:[1,3],4:[5,3],5:[4],5:[1]});show(g);\n",
    "g=graphs.CycleGraph(5);show(g);\n",
    "n=g.order();V=Set(range(0,n));#V.list()\n",
    "S2=Subsets(V);\n",
    "A=g.adjacency_matrix();#A\n",
    "F=[];\n",
    "for W in S2:\n",
    "    if W.cardinality()>1:\n",
    "        D=[];\n",
    "        for j in V-W:\n",
    "            d=0;\n",
    "            for k in W:\n",
    "                if A[j,k]==1:\n",
    "                    d+=1; \n",
    "            D.append(d)\n",
    "        s=0;\n",
    "        #print D\n",
    "        for i in D: \n",
    "            if i==1:\n",
    "                s+=1;\n",
    "        #print s        \n",
    "        if s==0:\n",
    "            F.append(W);\n",
    "        #print\"****************\" \n",
    "MF=[];\n",
    "for w in F:\n",
    "    r=0;\n",
    "    for f in Subsets(w):\n",
    "        if f.cardinality()<w.cardinality() and f in F:\n",
    "            r+=1;\n",
    "    if r==0:\n",
    "        MF.append(w);    \n",
    "print\"The number of minimal forts of g is\", len(MF)        \n",
    "print\"Minimal forts of g are\", MF"
   ]
  },
  {
   "cell_type": "code",
   "execution_count": null,
   "id": "5b6b7fc2",
   "metadata": {},
   "outputs": [
    {
     "data": {
      "text/plain": [
       "The number of minimal forts of g is 2    \n",
       "Minimal forts of g are [{0, 1, 3}, {0, 2, 3}]    \n",
       "********************************************************************    \n",
       "The number of minimal forts of h is 1    \n",
       "Minimal forts of h are [{0, 1}]    \n",
       "********************************************************************    \n",
       "[0, 1, 2, 3, 4, 5, 6, 7]    \n",
       "The number of minimal forts of gh is 8    \n",
       "Minimal forts of g\box h are [{0, 3, 4, 7}, {0, 3, 5, 6}, {1, 2, 4, 7}, {1, 2, 5, 6}, {0, 1, 4, 5, 6}, {0, 1, 4, 5, 7}, {0, 2, 3, 6, 7}, {1, 2, 3, 6, 7}]    "
      ]
     },
     "execution_count": 1,
     "metadata": {},
     "output_type": "execute_result"
    }
   ],
   "source": [
    "#g=graphs.LollipopGraph(3, 1);show(g);\n",
    "#g=graphs.LadderGraph(4);show(g);\n",
    "#g=graphs.PetersenGraph();\n",
    "#g=Graph({0:[2,1,3],3:[4,5]});show(g);\n",
    "#g=Graph({0:[3,1,2,4,5],2:[1,3],4:[5,3],5:[4],5:[1]});show(g);\n",
    "g=graphs.PathGraph(4);show(g);\n",
    "n=g.order();V=Set(range(0,n));#V.list()\n",
    "S2=Subsets(V);\n",
    "A=g.adjacency_matrix();#A\n",
    "F=[];\n",
    "for W in S2:\n",
    "    if W.cardinality()>1:\n",
    "        D=[];\n",
    "        for j in V-W:\n",
    "            d=0;\n",
    "            for k in W:\n",
    "                if A[j,k]==1:\n",
    "                    d+=1; \n",
    "            D.append(d)\n",
    "        s=0;\n",
    "        #print D\n",
    "        for i in D: \n",
    "            if i==1:\n",
    "                s+=1;\n",
    "        #print s        \n",
    "        if s==0:\n",
    "            F.append(W);\n",
    "        #print\"****************\" \n",
    "MF=[];\n",
    "for w in F:\n",
    "    r=0;\n",
    "    for f in Subsets(w):\n",
    "        if f.cardinality()<w.cardinality() and f in F:\n",
    "            r+=1;\n",
    "    if r==0:\n",
    "        MF.append(w);    \n",
    "print\"The number of minimal forts of g is\", len(MF)        \n",
    "print\"Minimal forts of g are\", MF\n",
    "print\"********************************************************************\"\n",
    "#h=graphs.LadderGraph(4);show(g);\n",
    "#h=graphs.PetersenGraph();\n",
    "#h=Graph({0:[3,1,2,4,5,6,7],2:[1,3],4:[3],5:[6,4],7:[6,1]});show(g);\n",
    "#h=Graph({0:[3,1,2,4,5],2:[1,3],4:[5,3],5:[4],5:[1]});show(g);\n",
    "h=graphs.CompleteGraph(2);show(h);\n",
    "n=h.order();V=Set(range(0,n));#V.list()\n",
    "S2=Subsets(V);\n",
    "A=h.adjacency_matrix();#A\n",
    "F=[];\n",
    "for W in S2:\n",
    "    if W.cardinality()>1:\n",
    "        D=[];\n",
    "        for j in V-W:\n",
    "            d=0;\n",
    "            for k in W:\n",
    "                if A[j,k]==1:\n",
    "                    d+=1; \n",
    "            D.append(d)\n",
    "        s=0;\n",
    "        #print D\n",
    "        for i in D: \n",
    "            if i==1:\n",
    "                s+=1;\n",
    "        #print s        \n",
    "        if s==0:\n",
    "            F.append(W);\n",
    "        #print\"****************\" \n",
    "MF=[];\n",
    "for w in F:\n",
    "    r=0;\n",
    "    for f in Subsets(w):\n",
    "        if f.cardinality()<w.cardinality() and f in F:\n",
    "            r+=1;\n",
    "    if r==0:\n",
    "        MF.append(w);    \n",
    "print\"The number of minimal forts of h is\", len(MF)        \n",
    "print\"Minimal forts of h are\", MF\n",
    "print\"********************************************************************\"\n",
    "gh=g.cartesian_product(h);\n",
    "k=0;\n",
    "for i in gh.vertices():\n",
    "    gh.relabel({i:k});\n",
    "    k+=1;\n",
    "print gh.vertices();gh.show()\n",
    "n=gh.order();V=Set(range(0,n));#V.list()\n",
    "S2=Subsets(V);\n",
    "A=gh.adjacency_matrix();#A\n",
    "F=[];\n",
    "for W in S2:\n",
    "    if W.cardinality()>1:\n",
    "        D=[];\n",
    "        for j in V-W:\n",
    "            d=0;\n",
    "            for k in W:\n",
    "                if A[j,k]==1:\n",
    "                    d+=1; \n",
    "            D.append(d)\n",
    "        s=0;\n",
    "        #print D\n",
    "        for i in D: \n",
    "            if i==1:\n",
    "                s+=1;\n",
    "        #print s        \n",
    "        if s==0:\n",
    "            F.append(W);\n",
    "        #print\"****************\" \n",
    "MF=[];\n",
    "for w in F:\n",
    "    r=0;\n",
    "    for f in Subsets(w):\n",
    "        if f.cardinality()<w.cardinality() and f in F:\n",
    "            r+=1;\n",
    "    if r==0:\n",
    "        MF.append(w);    \n",
    "print\"The number of minimal forts of gh is\", len(MF)        \n",
    "print\"Minimal forts of g\\box h are\", MF"
   ]
  },
  {
   "cell_type": "code",
   "execution_count": null,
   "id": "a564712d",
   "metadata": {},
   "outputs": [],
   "source": [
    "#g=graphs.PaleyGraph(9);show(g);\n",
    "g=graphs.PetersenGraph();#add_vertex();\n",
    "for i in g.vertices():\n",
    "    g.add_edge(10,i);\n",
    "show(g);"
   ]
  },
  {
   "cell_type": "code",
   "execution_count": null,
   "id": "93c464bf",
   "metadata": {},
   "outputs": [],
   "source": [
    "g= graphs.ShrikhandeGraph();g.show()"
   ]
  },
  {
   "cell_type": "code",
   "execution_count": null,
   "id": "84829e75",
   "metadata": {},
   "outputs": [
    {
     "data": {
      "text/plain": [
       "Traceback (most recent call last):\n",
       "...\n",
       "AttributeError: GraphGenerators instance has no attribute 'LeonardGraph'"
      ]
     },
     "execution_count": 1,
     "metadata": {},
     "output_type": "execute_result"
    }
   ],
   "source": [
    "graphs.LeonardGraph()"
   ]
  },
  {
   "cell_type": "code",
   "execution_count": null,
   "id": "da82d72b",
   "metadata": {},
   "outputs": [],
   "source": [
    "g = graphs.FibonacciTree(5);g.add_edges([(4, 11),(0,7),(5,8)]);show(g);"
   ]
  },
  {
   "cell_type": "code",
   "execution_count": null,
   "id": "9a3eb702",
   "metadata": {},
   "outputs": [],
   "source": [
    "c=[2,5,9,10];\n",
    "g=graphs.EmptyGraph()\n",
    "for i in c:\n",
    "    for j in range(i):\n",
    "        g.add_edge([j,i])\n",
    "g.show()"
   ]
  },
  {
   "cell_type": "markdown",
   "id": "17931a68",
   "metadata": {},
   "source": [
    "Extracting useful information for fort Hypergraph of a graph"
   ]
  },
  {
   "cell_type": "code",
   "execution_count": null,
   "id": "3d8f9f76",
   "metadata": {},
   "outputs": [],
   "source": [
    "g=Graph({0:[4,1,9],9:[10,13],1:[8,2],2:[7,3],3:[6,4],4:[5],10:[14,11], 11:[15,12], 12:[16,13], 13:[17]});show(g);"
   ]
  },
  {
   "cell_type": "code",
   "execution_count": null,
   "id": "ad064e60",
   "metadata": {},
   "outputs": [
    {
     "data": {
      "text/plain": [
       "Minimal forts of g are [{0, 1}, {3, 4}, {6, 7}, {8, 6}, {8, 7}, {9, 10}]    \n",
       "The vertex set of fort hypergraph =  [0, 1, 3, 4, 6, 7, 8, 9, 10]    \n",
       "The number of minimal forts m =  6    \n",
       "The size of vertex set of fort hypergraph n' =  9    \n",
       "Maximum Degree =  2    \n",
       "Minimum Degree =  1    \n",
       "The minimum size of forts, |F_m| is  2    \n",
       "The maximum size of forts is  2    \n",
       "lower bound m/Delta for Z* of g is =  3    \n",
       "upper bound n/|F_m| for Z* of g is =  4    \n",
       "zero forcing of g is  (5, [0, 3, 6, 7, 10], 34)    "
      ]
     },
     "execution_count": 1,
     "metadata": {},
     "output_type": "execute_result"
    }
   ],
   "source": [
    "#g=graphs.WheelGraph(6);show(g);\n",
    "#g=graphs.PathGraph(7);show(g);\n",
    "#g=graphs.CompleteGraph(7);show(g);\n",
    "#g=graphs.PaleyGraph(9);show(g);\n",
    "#g=graphs.BarbellGraph(3, 0);g.show()\n",
    "#g=graphs.BarbellGraph(5,0);g.add_edges([(0, 10), (1, 10), (2, 10), (3, 10), (4, 10), (5, 10), (6, 10), (7, 10), (8, 10), (9, 10)]);g.show();\n",
    "#show(g);\n",
    "#g=Graph({0:[3,1,2,4,5],2:[1,3],4:[5,3],5:[4],5:[1]});show(g);\n",
    "n=g.order();V=Set(range(0,n));#V.list()\n",
    "S2=Subsets(V);\n",
    "A=g.adjacency_matrix();#A\n",
    "F=[];\n",
    "for W in S2:\n",
    "    if W.cardinality()>1:\n",
    "        D=[];\n",
    "        for j in V-W:\n",
    "            d=0;\n",
    "            for k in W:\n",
    "                if A[j,k]==1:\n",
    "                    d+=1; \n",
    "            D.append(d)\n",
    "        s=0;\n",
    "        #print D\n",
    "        for i in D: \n",
    "            if i==1:\n",
    "                s+=1;\n",
    "        #print s        \n",
    "        if s==0:\n",
    "            F.append(W);\n",
    "        #print\"****************\" \n",
    "MF=[];\n",
    "for w in F:\n",
    "    r=0;\n",
    "    for f in Subsets(w):\n",
    "        if f.cardinality()<w.cardinality() and f in F:\n",
    "            r+=1;\n",
    "    if r==0:\n",
    "        MF.append(w);    \n",
    " \n",
    "B=[];\n",
    "for i in range(0,n):\n",
    "    j=0;\n",
    "    for s in MF:\n",
    "        if i in s:\n",
    "            j+=1;\n",
    "    B.append(j)  \n",
    "VF=[];#VF is the set of vertices of fort hypergraph\n",
    "for i in range(0,n):\n",
    "    if B[i]!=0:\n",
    "        VF.append(i)\n",
    "C=[];\n",
    "for i in VF:\n",
    "    j=0;\n",
    "    for s in MF:\n",
    "        if i in s:\n",
    "            j+=1;\n",
    "    C.append(j) \n",
    "minni=n;maxxi=2;#minni is min degree and maxxi is max degree of a vertex in fort hypergraph\n",
    "for s in MF:\n",
    "    if len(s)<=minni:\n",
    "        minni=len(s);\n",
    "    if len(s)>=maxxi: \n",
    "        maxxi=len(s);   \n",
    "print\"Minimal forts of g are\", MF\n",
    "print\"The vertex set of fort hypergraph = \",VF   \n",
    "print\"The number of minimal forts m = \", len(MF) ; \n",
    "print\"The size of vertex set of fort hypergraph n' = \",len(VF);  \n",
    "C.sort();MM=C[len(C)-1];mm=C[0];    \n",
    "print\"Maximum Degree = \", MM\n",
    "print\"Minimum Degree = \", mm \n",
    "print\"The minimum size of forts, |F_m| is \", minni\n",
    "print\"The maximum size of forts is \", maxxi\n",
    "print\"lower bound m/Delta for Z* of g is = \", len(MF)/MM\n",
    "print\"upper bound n/|F_m| for Z* of g is = \", len(VF)/minni\n",
    "print\"zero forcing of g is \", zero_forcing_set_wavefront(g);"
   ]
  },
  {
   "cell_type": "markdown",
   "id": "7dd1643f",
   "metadata": {},
   "source": [
    "This code calculates Z\\*"
   ]
  },
  {
   "cell_type": "code",
   "execution_count": null,
   "id": "a2c95bd4",
   "metadata": {},
   "outputs": [
    {
     "data": {
      "text/plain": [
       "Z*=  4.5    "
      ]
     },
     "execution_count": 1,
     "metadata": {},
     "output_type": "execute_result"
    }
   ],
   "source": [
    "p = MixedIntegerLinearProgram(maximization=False, solver=\"GLPK\")\n",
    "v = p.new_variable(real=True, nonnegative=True)\n",
    "H=[];\n",
    "for i in range(0,n):\n",
    "    H.append(v[i]);\n",
    "    \n",
    "#print H \n",
    "a=0;\n",
    "for i in H:\n",
    "    a+=i\n",
    "#print a\n",
    "p.set_objective(a)\n",
    "for s in MF:\n",
    "    b=0;\n",
    "    for i in s:\n",
    "        b+=H[i]\n",
    "    p.add_constraint(b>=1);\n",
    "print\"Z*= \",p.solve()"
   ]
  },
  {
   "cell_type": "code",
   "execution_count": null,
   "id": "ce3a5275",
   "metadata": {},
   "outputs": [
    {
     "data": {
      "text/plain": [
       "[0, 1, 3, 4, 6, 7, 8]    "
      ]
     },
     "execution_count": 1,
     "metadata": {},
     "output_type": "execute_result"
    }
   ],
   "source": [
    "VF"
   ]
  },
  {
   "cell_type": "code",
   "execution_count": null,
   "id": "ae466b02",
   "metadata": {},
   "outputs": [
    {
     "data": {
      "text/plain": [
       "[x_0, x_1, x_2, x_3, x_4, x_5, x_6, x_7, x_8, x_9]    "
      ]
     },
     "execution_count": 1,
     "metadata": {},
     "output_type": "execute_result"
    }
   ],
   "source": [
    "H"
   ]
  },
  {
   "cell_type": "code",
   "execution_count": null,
   "id": "cdc0a8b5",
   "metadata": {},
   "outputs": [
    {
     "data": {
      "text/plain": [
       "x_2    "
      ]
     },
     "execution_count": 1,
     "metadata": {},
     "output_type": "execute_result"
    }
   ],
   "source": [
    "v[3]"
   ]
  },
  {
   "cell_type": "code",
   "execution_count": null,
   "id": "6a516341",
   "metadata": {},
   "outputs": [],
   "source": [
    "BD = IncidenceStructure(7, [[0,1,2],[0,3,4],[0,5,6],[1,3,5],[1,4,6],[2,3,6],[2,4,5]]);"
   ]
  },
  {
   "cell_type": "code",
   "execution_count": null,
   "id": "e985d8da",
   "metadata": {},
   "outputs": [],
   "source": [
    "p = MixedIntegerLinearProgram(maximization=False, solver=\"GLPK\")\n",
    "v = p.new_variable(real=True, nonnegative=True)\n",
    "H=[];\n",
    "for i in range(0, len(VF)):\n",
    "    H.append(v[i]);\n",
    "    \n",
    "#print H \n",
    "a=0;\n",
    "for i in H:\n",
    "    a+=i\n",
    "    \n",
    "#print a\n",
    "p.set_objective(a)\n",
    "for s in MF:\n",
    "    b=0;\n",
    "    for i in s:\n",
    "        b+=H[i]\n",
    "    p.add_constraint(b>=1);\n",
    "p.solve()"
   ]
  },
  {
   "cell_type": "code",
   "execution_count": null,
   "id": "af1fc86b",
   "metadata": {},
   "outputs": [
    {
     "data": {
      "text/plain": [
       "Traceback (most recent call last):\n",
       "...\n",
       "TypeError: 'sage.rings.integer.Integer' object is not callable"
      ]
     },
     "execution_count": 1,
     "metadata": {},
     "output_type": "execute_result"
    }
   ],
   "source": [
    "p = MixedIntegerLinearProgram(maximization=False, solver=\"GLPK\")\n",
    "v = p.new_variable(real=True, nonnegative=True)\n",
    "x0,x1, x2, x3,x4,x5,x6,x7,x8,x9,x10,x11,x12,x13 = v['x0'], v['x1'], v['x2'], v['x3'], v['x4'], v['x5'], v['x6'], v['x7'], v['x8'], v['x9'], v['x10'], v['x11'], v['x12'],v['x13']\n",
    "p.set_objective(x0+x1+x2+x3+x4+x5+x6+x7+x8+x9+x10+x11+x12+x13)\n",
    "p.add_constraint(x0+x1+x3+x13 >= 1)\n",
    "p.add_constraint(x8+x11+x12+x9 >= 1)\n",
    "p.add_constraint(x0+x2+x5+x6+x13 >= 1)\n",
    "p.add_constraint(x8+x9+x7+x5+x6 >= 1)\n",
    "p.add_constraint(x11+x12+x5+x6+x7 >= 1)\n",
    "p.add_constraint(x0+x2+x8+x7+x9+x13 >= 1)\n",
    "p.add_constraint(x0+x2+x7+x11+x12+x13 >= 1)\n",
    "p.add_constraint(x5+x6+x7+x8+x10+x12 >= 1)\n",
    "p.add_constraint(x0+x1+x4+x5+x8+x9+x7 >= 1)\n",
    "p.add_constraint(x0+x4+x1+x5+x7+x12+x11 >= 1)\n",
    "p.add_constraint(x0+x1+x4+x8+x5+x12+x10 >= 1)\n",
    "p.add_constraint(x0+x2+x7+x8+x10+x12+x13 >= 1)\n",
    "p.add_constraint(x3+x4+x5+x8+x7+x9+x13 >= 1)\n",
    "p.add_constraint(x3+x4+x5+x11+x7+x12+x13 >= 1)\n",
    "p.add_constraint(x3+x4+x5+x8+x10+x12+x13 >= 1)\n",
    "p.add_constraint(x0+x2+x4+x5+x8+x10+x12+x13 >= 1)\n",
    "p.solve()"
   ]
  },
  {
   "cell_type": "code",
   "execution_count": null,
   "id": "1c820f63",
   "metadata": {},
   "outputs": [
    {
     "data": {
      "text/plain": [
       "Minimization:    \n",
       "  x_0 + x_1 + x_2 + x_3 + x_4 + x_5 + x_6 + x_7 + x_8 + x_9     \n",
       "\n",
       "Constraints:    \n",
       "  - x_0 - x_1 <= -1.0    \n",
       "  - x_3 - x_4 <= -1.0    \n",
       "  - x_6 - x_7 <= -1.0    \n",
       "  - x_6 - x_8 <= -1.0    \n",
       "  - x_7 - x_8 <= -1.0    \n",
       "Variables:    \n",
       "  x_0 is a continuous variable (min=0.0, max=+oo)    \n",
       "  x_1 is a continuous variable (min=0.0, max=+oo)    \n",
       "  x_2 is a continuous variable (min=0.0, max=+oo)    \n",
       "  x_3 is a continuous variable (min=0.0, max=+oo)    \n",
       "  x_4 is a continuous variable (min=0.0, max=+oo)    \n",
       "  x_5 is a continuous variable (min=0.0, max=+oo)    \n",
       "  x_6 is a continuous variable (min=0.0, max=+oo)    \n",
       "  x_7 is a continuous variable (min=0.0, max=+oo)    \n",
       "  x_8 is a continuous variable (min=0.0, max=+oo)    \n",
       "  x_9 is a continuous variable (min=0.0, max=+oo)    "
      ]
     },
     "execution_count": 1,
     "metadata": {},
     "output_type": "execute_result"
    }
   ],
   "source": [
    "p.show()"
   ]
  },
  {
   "cell_type": "code",
   "execution_count": null,
   "id": "3ffb09f2",
   "metadata": {},
   "outputs": [
    {
     "data": {
      "text/plain": [
       "Objective Value: 2.5    "
      ]
     },
     "execution_count": 1,
     "metadata": {},
     "output_type": "execute_result"
    }
   ],
   "source": [
    "print('Objective Value: {}'.format(p.solve()))"
   ]
  },
  {
   "cell_type": "code",
   "execution_count": null,
   "id": "595e24e6",
   "metadata": {},
   "outputs": [
    {
     "data": {
      "text/plain": [
       "0.5    "
      ]
     },
     "execution_count": 1,
     "metadata": {},
     "output_type": "execute_result"
    }
   ],
   "source": [
    "round(p.get_values(x0), 2)"
   ]
  },
  {
   "cell_type": "code",
   "execution_count": null,
   "id": "8d8772d3",
   "metadata": {},
   "outputs": [
    {
     "data": {
      "text/plain": [
       "0.5    "
      ]
     },
     "execution_count": 1,
     "metadata": {},
     "output_type": "execute_result"
    }
   ],
   "source": [
    "round(p.get_values(x1), 2)"
   ]
  },
  {
   "cell_type": "code",
   "execution_count": null,
   "id": "c3aafba5",
   "metadata": {},
   "outputs": [
    {
     "data": {
      "text/plain": [
       "0.0    "
      ]
     },
     "execution_count": 1,
     "metadata": {},
     "output_type": "execute_result"
    }
   ],
   "source": [
    "round(p.get_values(x2), 2)"
   ]
  },
  {
   "cell_type": "code",
   "execution_count": null,
   "id": "8de0125a",
   "metadata": {},
   "outputs": [
    {
     "data": {
      "text/plain": [
       "0.0    "
      ]
     },
     "execution_count": 1,
     "metadata": {},
     "output_type": "execute_result"
    }
   ],
   "source": [
    "round(p.get_values(x3), 2)"
   ]
  },
  {
   "cell_type": "code",
   "execution_count": null,
   "id": "22b39db4",
   "metadata": {},
   "outputs": [
    {
     "data": {
      "text/plain": [
       "0.0    "
      ]
     },
     "execution_count": 1,
     "metadata": {},
     "output_type": "execute_result"
    }
   ],
   "source": [
    "round(p.get_values(x4), 2)"
   ]
  },
  {
   "cell_type": "code",
   "execution_count": null,
   "id": "555e7aad",
   "metadata": {},
   "outputs": [
    {
     "data": {
      "text/plain": [
       "0.5    "
      ]
     },
     "execution_count": 1,
     "metadata": {},
     "output_type": "execute_result"
    }
   ],
   "source": [
    "round(p.get_values(x5), 2)"
   ]
  },
  {
   "cell_type": "code",
   "execution_count": null,
   "id": "8b4bbbf5",
   "metadata": {},
   "outputs": [
    {
     "data": {
      "text/plain": [
       "0.0    "
      ]
     },
     "execution_count": 1,
     "metadata": {},
     "output_type": "execute_result"
    }
   ],
   "source": [
    "round(p.get_values(x6), 2)"
   ]
  },
  {
   "cell_type": "code",
   "execution_count": null,
   "id": "7d2041c4",
   "metadata": {},
   "outputs": [
    {
     "data": {
      "text/plain": [
       "0.0    "
      ]
     },
     "execution_count": 1,
     "metadata": {},
     "output_type": "execute_result"
    }
   ],
   "source": [
    "round(p.get_values(x7), 2)"
   ]
  },
  {
   "cell_type": "code",
   "execution_count": null,
   "id": "f7b08e96",
   "metadata": {},
   "outputs": [
    {
     "data": {
      "text/plain": [
       "0.5    "
      ]
     },
     "execution_count": 1,
     "metadata": {},
     "output_type": "execute_result"
    }
   ],
   "source": [
    "round(p.get_values(x8), 2)"
   ]
  },
  {
   "cell_type": "code",
   "execution_count": null,
   "id": "6e38041d",
   "metadata": {},
   "outputs": [
    {
     "data": {
      "text/plain": [
       "0.0    "
      ]
     },
     "execution_count": 1,
     "metadata": {},
     "output_type": "execute_result"
    }
   ],
   "source": [
    "round(p.get_values(x9), 2)"
   ]
  },
  {
   "cell_type": "code",
   "execution_count": null,
   "id": "30e213db",
   "metadata": {},
   "outputs": [
    {
     "data": {
      "text/plain": [
       "0.0    "
      ]
     },
     "execution_count": 1,
     "metadata": {},
     "output_type": "execute_result"
    }
   ],
   "source": [
    "round(p.get_values(x10), 2)"
   ]
  },
  {
   "cell_type": "code",
   "execution_count": null,
   "id": "cf886739",
   "metadata": {},
   "outputs": [
    {
     "data": {
      "text/plain": [
       "0.5    "
      ]
     },
     "execution_count": 1,
     "metadata": {},
     "output_type": "execute_result"
    }
   ],
   "source": [
    "round(p.get_values(x11), 2)"
   ]
  },
  {
   "cell_type": "code",
   "execution_count": null,
   "id": "27daf548",
   "metadata": {},
   "outputs": [
    {
     "data": {
      "text/plain": [
       "0.0    "
      ]
     },
     "execution_count": 1,
     "metadata": {},
     "output_type": "execute_result"
    }
   ],
   "source": [
    "round(p.get_values(x12), 2)"
   ]
  },
  {
   "cell_type": "code",
   "execution_count": null,
   "id": "6fe77dc4",
   "metadata": {},
   "outputs": [
    {
     "data": {
      "text/plain": [
       "2.25    "
      ]
     },
     "execution_count": 1,
     "metadata": {},
     "output_type": "execute_result"
    }
   ],
   "source": [
    "p = MixedIntegerLinearProgram(maximization=False, solver=\"GLPK\")\n",
    "v = p.new_variable(real=True, nonnegative=True)\n",
    "x0,x1, x2, x3,x4,x5,x6,x7,x8,x9,x10,x11,x12 = v['x0'], v['x1'], v['x2'], v['x3'], v['x4'], v['x5'], v['x6'], v['x7'], v['x8'], v['x9'], v['x10'], v['x11'], v['x12']\n",
    "p.set_objective(x0+x1+x2+x3+x4+x5+x6+x7+x8+x9+x10+x11)\n",
    "p.add_constraint(x0+x1+x3 >= 1)\n",
    "p.add_constraint(x8+x9+x11 >= 1)\n",
    "p.add_constraint(x0+x2+x3+x5+x6 >= 1)\n",
    "p.add_constraint(x8+x9+x5+x7+x6 >= 1)\n",
    "p.add_constraint(x11+x12+x5+x7+x6 >= 1)\n",
    "p.add_constraint(x0+x2+x3+x7+x8+x9 >= 1)\n",
    "p.add_constraint(x0+x2+x3+x7+x11 >= 1)\n",
    "p.add_constraint(x3+x4+x5+x7+x8+x9 >= 1)\n",
    "p.add_constraint(x3+x4+x5+x7+x11 >= 1)\n",
    "p.add_constraint(x3+x4+x5+x8+x10 >= 1)\n",
    "p.add_constraint(x5+x6+x7+x8+x10 >= 1)\n",
    "p.add_constraint(x0+x1+x4+x5+x7+x8+x9 >= 1)\n",
    "p.add_constraint(x0+x1+x4+x5+x7+x11 >= 1)\n",
    "p.add_constraint(x0+x1+x4+x5+x8+x10 >= 1)\n",
    "p.add_constraint(x0+x2+x3+x7+x8+x10 >= 1)\n",
    "#round(p.solve(), 2)\n",
    "p.solve()"
   ]
  },
  {
   "cell_type": "code",
   "execution_count": null,
   "id": "9f4b4125",
   "metadata": {},
   "outputs": [
    {
     "data": {
      "text/plain": [
       "2.0    "
      ]
     },
     "execution_count": 1,
     "metadata": {},
     "output_type": "execute_result"
    }
   ],
   "source": [
    "aa=0.01;aa=len(VF)/minni;float(aa)"
   ]
  },
  {
   "cell_type": "code",
   "execution_count": null,
   "id": "07826a2c",
   "metadata": {},
   "outputs": [
    {
     "data": {
      "text/plain": [
       "2.0    "
      ]
     },
     "execution_count": 1,
     "metadata": {},
     "output_type": "execute_result"
    }
   ],
   "source": [
    "float(len(VF)/minni)"
   ]
  },
  {
   "cell_type": "code",
   "execution_count": null,
   "id": "d6e8b4ad",
   "metadata": {},
   "outputs": [],
   "source": [
    "print\"zero forcing of g is \", zero_forcing_set_wavefront(g);"
   ]
  },
  {
   "cell_type": "markdown",
   "id": "58e945a8",
   "metadata": {},
   "source": [
    "Let F\\_G be the fort hypergraph of G and let every vertex of F\\_G be\n",
    "involved in a fort of minimum size k=\\|F\\_m\\|. Then ft\\*(G)=Z\\*(G)=n'/k."
   ]
  },
  {
   "cell_type": "code",
   "execution_count": null,
   "id": "98543ddc",
   "metadata": {},
   "outputs": [
    {
     "data": {
      "text/plain": [
       "[3, 3, 4, 4, 3, 3]    "
      ]
     },
     "execution_count": 1,
     "metadata": {},
     "output_type": "execute_result"
    }
   ],
   "source": [
    "C"
   ]
  },
  {
   "cell_type": "code",
   "execution_count": null,
   "id": "3f302a18",
   "metadata": {},
   "outputs": [
    {
     "data": {
      "text/plain": [
       "[3, 3, 3, 3, 4, 4]    "
      ]
     },
     "execution_count": 1,
     "metadata": {},
     "output_type": "execute_result"
    }
   ],
   "source": [
    "C.sort();C"
   ]
  },
  {
   "cell_type": "code",
   "execution_count": null,
   "id": "94fb1808",
   "metadata": {},
   "outputs": [
    {
     "data": {
      "text/plain": [
       "3    "
      ]
     },
     "execution_count": 1,
     "metadata": {},
     "output_type": "execute_result"
    }
   ],
   "source": [
    "C[0]"
   ]
  },
  {
   "cell_type": "code",
   "execution_count": null,
   "id": "d57d881a",
   "metadata": {},
   "outputs": [
    {
     "data": {
      "text/plain": [
       "6    "
      ]
     },
     "execution_count": 1,
     "metadata": {},
     "output_type": "execute_result"
    }
   ],
   "source": [
    "len(C)"
   ]
  },
  {
   "cell_type": "code",
   "execution_count": null,
   "id": "e00c524a",
   "metadata": {},
   "outputs": [
    {
     "data": {
      "text/plain": [
       "4    "
      ]
     },
     "execution_count": 1,
     "metadata": {},
     "output_type": "execute_result"
    }
   ],
   "source": [
    "C[len(C)-1]"
   ]
  },
  {
   "cell_type": "code",
   "execution_count": null,
   "id": "57c32a3d",
   "metadata": {},
   "outputs": [
    {
     "data": {
      "text/plain": [
       "Traceback (most recent call last):\n",
       "...\n",
       "TypeError: 'int' object is not callable"
      ]
     },
     "execution_count": 1,
     "metadata": {},
     "output_type": "execute_result"
    }
   ],
   "source": [
    "max(C)"
   ]
  },
  {
   "cell_type": "code",
   "execution_count": null,
   "id": "19927a6b",
   "metadata": {},
   "outputs": [
    {
     "data": {
      "text/plain": [
       "1.0    "
      ]
     },
     "execution_count": 1,
     "metadata": {},
     "output_type": "execute_result"
    }
   ],
   "source": [
    "float(len(VF)/l)"
   ]
  },
  {
   "cell_type": "code",
   "execution_count": null,
   "id": "44973e24",
   "metadata": {},
   "outputs": [
    {
     "data": {
      "text/plain": [
       "Minimal forts of g are [{0, 1}, {0, 2}, {1, 2}, {6, 7}, {8, 6}, {8, 7}, {0, 3, 5, 6}, {0, 3, 5, 7}, {0, 8, 3, 5}, {1, 3, 5, 6}, {1, 3, 5, 7}, {8, 1, 3, 5}, {2, 3, 5, 6}, {2, 3, 5, 7}, {8, 2, 3, 5}]    \n",
       "The vertex set of fort hypergraph =  [0, 1, 2, 3, 5, 6, 7, 8]    \n",
       "The number of minimal forts of g is 15    \n",
       "The size of vertex set of fort hypergraph =  8    \n",
       "Maximum Degree =  9    \n",
       "Minimum Degree =  0    \n",
       "The minimum size of forts is  2    \n",
       "The maximum size of forts is  4    \n",
       "lower bound m/Delta for Z* of g is =  1.66666666667    \n",
       "upper bound n'/|F_m| for Z* of g is =  4.0    "
      ]
     },
     "execution_count": 1,
     "metadata": {},
     "output_type": "execute_result"
    }
   ],
   "source": [
    "#g=graphs.PetersenGraph();g.show()\n",
    "#g=Graph({0:[3,1,2,4,5,6,7],2:[1,3],4:[3],5:[6,4],7:[6,1]});show(g);\n",
    "#g=Graph({0:[3,1,2,4,5],2:[1,3],4:[5,3],5:[4],5:[1]});show(g);\n",
    "g=graphs.BarbellGraph(4, 1);show(g);\n",
    "#g=graphs.CycleGraph(6);show(g);\n",
    "n=g.order();V=Set(range(0,n));#V.list()\n",
    "S2=Subsets(V);\n",
    "A=g.adjacency_matrix();#A\n",
    "F=[];\n",
    "for W in S2:\n",
    "    if W.cardinality()>1:\n",
    "        D=[];\n",
    "        for j in V-W:\n",
    "            d=0;\n",
    "            for k in W:\n",
    "                if A[j,k]==1:\n",
    "                    d+=1; \n",
    "            D.append(d)\n",
    "        s=0;\n",
    "        #print D\n",
    "        for i in D: \n",
    "            if i==1:\n",
    "                s+=1;\n",
    "        #print s        \n",
    "        if s==0:\n",
    "            F.append(W);\n",
    "        #print\"****************\" \n",
    "MF=[];\n",
    "for w in F:\n",
    "    r=0;\n",
    "    for f in Subsets(w):\n",
    "        if f.cardinality()<w.cardinality() and f in F:\n",
    "            r+=1;\n",
    "    if r==0:\n",
    "        MF.append(w);    \n",
    " \n",
    "B=[];\n",
    "for i in range(0,n):\n",
    "    j=0;\n",
    "    for s in MF:\n",
    "        if i in s:\n",
    "            j+=1;\n",
    "    B.append(j)  \n",
    "VF=[];#VF is the set of vertices of fort hypergraph\n",
    "for i in range(0,n):\n",
    "    if B[i]!=0:\n",
    "        VF.append(i)\n",
    "l=n;h=2;\n",
    "for s in MF:\n",
    "    if len(s)<=l:\n",
    "        l=len(s);\n",
    "    if len(s)>=l: \n",
    "        h=len(s);   \n",
    "print\"Minimal forts of g are\", MF\n",
    "print\"The vertex set of fort hypergraph = \",VF   \n",
    "print\"The number of minimal forts of g is\", len(MF)  \n",
    "print\"The size of vertex set of fort hypergraph = \",len(VF)      \n",
    "print\"Maximum Degree = \", max(B)\n",
    "print\"Minimum Degree = \", min(B) \n",
    "print\"The minimum size of forts is \", l\n",
    "print\"The maximum size of forts is \", h\n",
    "print\"lower bound m/Delta for Z* of g is = \", float(len(MF)/max(B)) \n",
    "print\"upper bound n'/|F_m| for Z* of g is = \", float(len(VF)/l)"
   ]
  },
  {
   "cell_type": "code",
   "execution_count": null,
   "id": "e8e81155",
   "metadata": {},
   "outputs": [
    {
     "data": {
      "text/plain": [
       "[{0, 1, 3, 8},    \n",
       " {0, 1, 9, 7},    \n",
       " {0, 2, 3, 5},    \n",
       " {0, 2, 4, 7},    \n",
       " {0, 8, 2, 9},    \n",
       " {0, 3, 6, 7},    \n",
       " {0, 8, 4, 6},    \n",
       " {0, 9, 5, 6},    \n",
       " {1, 2, 4, 9},    \n",
       " {8, 1, 2, 5},    \n",
       " {1, 3, 4, 6},    \n",
       " {1, 3, 5, 9},    \n",
       " {8, 1, 4, 7},    \n",
       " {1, 5, 6, 7},    \n",
       " {9, 2, 3, 6},    \n",
       " {2, 4, 5, 6},    \n",
       " {8, 2, 6, 7},    \n",
       " {3, 4, 5, 7},    \n",
       " {8, 9, 3, 7},    \n",
       " {8, 9, 4, 5}]    "
      ]
     },
     "execution_count": 1,
     "metadata": {},
     "output_type": "execute_result"
    }
   ],
   "source": [
    "MF"
   ]
  },
  {
   "cell_type": "code",
   "execution_count": null,
   "id": "493cd183",
   "metadata": {},
   "outputs": [
    {
     "data": {
      "text/plain": [
       "The number of minimal forts of g is 10    \n",
       "Minimal forts of g are [{0, 1, 3}, {0, 1, 4}, {0, 2, 4}, {0, 2, 5}, {0, 3, 5}, {1, 2, 4}, {1, 3, 4}, {1, 3, 5}, {2, 3, 5}, {2, 4, 5}]    "
      ]
     },
     "execution_count": 1,
     "metadata": {},
     "output_type": "execute_result"
    }
   ],
   "source": [
    "#g=graphs.PetersenGraph();\n",
    "#g=Graph({0:[3,1,2,4,5,6,7],2:[1,3],4:[3],5:[6,4],7:[6,1]});show(g);\n",
    "g=Graph({0:[3,1,2,4,5],2:[1,3],4:[5,3],5:[4],5:[1]});show(g);\n",
    "#g=graphs.CycleGraph(5);show(g);\n",
    "n=g.order();V=Set(range(0,n));#V.list()\n",
    "S2=Subsets(V);\n",
    "A=g.adjacency_matrix();#A\n",
    "F=[];\n",
    "for W in S2:\n",
    "    if W.cardinality()>1:\n",
    "        D=[];\n",
    "        for j in V-W:\n",
    "            d=0;\n",
    "            for k in W:\n",
    "                if A[j,k]==1:\n",
    "                    d+=1; \n",
    "            D.append(d)\n",
    "        s=0;\n",
    "        #print D\n",
    "        for i in D: \n",
    "            if i==1:\n",
    "                s+=1;\n",
    "        #print s        \n",
    "        if s==0:\n",
    "            F.append(W);\n",
    "        #print\"****************\" \n",
    "MF=[];\n",
    "for w in F:\n",
    "    r=0;\n",
    "    for f in Subsets(w):\n",
    "        if f.cardinality()<w.cardinality() and f in F:\n",
    "            r+=1;\n",
    "    if r==0:\n",
    "        MF.append(w);    \n",
    "print\"The number of minimal forts of g is\", len(MF)        \n",
    "print\"Minimal forts of g are\", MF"
   ]
  },
  {
   "cell_type": "code",
   "execution_count": null,
   "id": "dab18597",
   "metadata": {},
   "outputs": [
    {
     "data": {
      "text/plain": [
       "The number of minimal forts of g is 21    \n",
       "Minimal forts of g are [{0, 1, 2, 5}, {0, 1, 3, 5}, {0, 1, 3, 6}, {0, 1, 4, 5}, {0, 1, 4, 6}, {0, 1, 4, 7}, {0, 2, 3, 6}, {0, 2, 4, 6}, {0, 2, 4, 7}, {0, 2, 5, 6}, {0, 2, 5, 7}, {0, 3, 4, 7}, {0, 3, 5, 7}, {0, 3, 6, 7}, {1, 2, 4, 6}, {1, 3, 4, 6}, {1, 3, 5, 6}, {1, 3, 5, 7}, {2, 3, 5, 7}, {2, 4, 5, 7}, {2, 4, 6, 7}]    "
      ]
     },
     "execution_count": 1,
     "metadata": {},
     "output_type": "execute_result"
    }
   ],
   "source": [
    "#g=graphs.PetersenGraph();\n",
    "g=Graph({0:[3,1,2,4,5,6,7],2:[1,3],4:[3],5:[6,4],7:[6,1]});show(g);\n",
    "#g=Graph({0:[3,1,2,4,5],2:[1,3],4:[5,3],5:[4],5:[1]});show(g);\n",
    "#g=graphs.CycleGraph(5);show(g);\n",
    "n=g.order();V=Set(range(0,n));#V.list()\n",
    "S2=Subsets(V);\n",
    "A=g.adjacency_matrix();#A\n",
    "F=[];\n",
    "for W in S2:\n",
    "    if W.cardinality()>1:\n",
    "        D=[];\n",
    "        for j in V-W:\n",
    "            d=0;\n",
    "            for k in W:\n",
    "                if A[j,k]==1:\n",
    "                    d+=1; \n",
    "            D.append(d)\n",
    "        s=0;\n",
    "        #print D\n",
    "        for i in D: \n",
    "            if i==1:\n",
    "                s+=1;\n",
    "        #print s        \n",
    "        if s==0:\n",
    "            F.append(W);\n",
    "        #print\"****************\" \n",
    "MF=[];\n",
    "for w in F:\n",
    "    r=0;\n",
    "    for f in Subsets(w):\n",
    "        if f.cardinality()<w.cardinality() and f in F:\n",
    "            r+=1;\n",
    "    if r==0:\n",
    "        MF.append(w);    \n",
    "print\"The number of minimal forts of g is\", len(MF)        \n",
    "print\"Minimal forts of g are\", MF"
   ]
  },
  {
   "cell_type": "code",
   "execution_count": null,
   "id": "3e2b49f3",
   "metadata": {},
   "outputs": [
    {
     "data": {
      "text/plain": [
       "[{0, 1, 2, 5},    \n",
       " {0, 1, 3, 5},    \n",
       " {0, 1, 3, 6},    \n",
       " {0, 1, 4, 5},    \n",
       " {0, 1, 4, 6},    \n",
       " {0, 1, 4, 7},    \n",
       " {0, 2, 3, 6},    \n",
       " {0, 2, 4, 6},    \n",
       " {0, 2, 4, 7},    \n",
       " {0, 2, 5, 6},    \n",
       " {0, 2, 5, 7},    \n",
       " {0, 3, 4, 7},    \n",
       " {0, 3, 5, 7},    \n",
       " {0, 3, 6, 7},    \n",
       " {1, 2, 4, 6},    \n",
       " {1, 3, 4, 6},    \n",
       " {1, 3, 5, 6},    \n",
       " {1, 3, 5, 7},    \n",
       " {2, 3, 5, 7},    \n",
       " {2, 4, 5, 7},    \n",
       " {2, 4, 6, 7}]    "
      ]
     },
     "execution_count": 1,
     "metadata": {},
     "output_type": "execute_result"
    }
   ],
   "source": [
    "MF"
   ]
  },
  {
   "cell_type": "code",
   "execution_count": null,
   "id": "cdb7e338",
   "metadata": {},
   "outputs": [
    {
     "data": {
      "text/plain": [
       "The number of minimal forts of g is 24    \n",
       "Minimal forts of g are [{0, 1}, {0, 2}, {1, 2}, {8, 7}, {9, 7}, {8, 9}, {0, 3, 4, 6, 7}, {0, 8, 3, 4, 6}, {0, 9, 3, 4, 6}, {0, 3, 5, 6, 7}, {0, 8, 3, 5, 6}, {0, 9, 3, 5, 6}, {1, 3, 4, 6, 7}, {8, 1, 3, 4, 6}, {1, 3, 4, 6, 9}, {1, 3, 5, 6, 7}, {8, 1, 3, 5, 6}, {1, 3, 5, 6, 9}, {2, 3, 4, 6, 7}, {8, 2, 3, 4, 6}, {9, 2, 3, 4, 6}, {2, 3, 5, 6, 7}, {8, 2, 3, 5, 6}, {9, 2, 3, 5, 6}]    "
      ]
     },
     "execution_count": 1,
     "metadata": {},
     "output_type": "execute_result"
    }
   ],
   "source": [
    "#g=graphs.PetersenGraph();\n",
    "#g=Graph({0:[3,1,2,4,5,6,7],2:[1,3],4:[3],5:[6,4],7:[6,1]});show(g);\n",
    "#g=Graph({0:[3,1,2,4,5],2:[1,3],4:[5,3],5:[4],5:[1]});show(g);\n",
    "#g=graphs.CycleGraph(5);show(g);\n",
    "n=g.order();V=Set(range(0,n));#V.list()\n",
    "S2=Subsets(V);\n",
    "A=g.adjacency_matrix();#A\n",
    "F=[];\n",
    "for W in S2:\n",
    "    if W.cardinality()>1:\n",
    "        D=[];\n",
    "        for j in V-W:\n",
    "            d=0;\n",
    "            for k in W:\n",
    "                if A[j,k]==1:\n",
    "                    d+=1; \n",
    "            D.append(d)\n",
    "        s=0;\n",
    "        #print D\n",
    "        for i in D: \n",
    "            if i==1:\n",
    "                s+=1;\n",
    "        #print s        \n",
    "        if s==0:\n",
    "            F.append(W);\n",
    "        #print\"****************\" \n",
    "MF=[];\n",
    "for w in F:\n",
    "    r=0;\n",
    "    for f in Subsets(w):\n",
    "        if f.cardinality()<w.cardinality() and f in F:\n",
    "            r+=1;\n",
    "    if r==0:\n",
    "        MF.append(w);    \n",
    "print\"The number of minimal forts of g is\", len(MF)        \n",
    "print\"Minimal forts of g are\", MF\n",
    "B="
   ]
  },
  {
   "cell_type": "code",
   "execution_count": null,
   "id": "10570a93",
   "metadata": {},
   "outputs": [
    {
     "data": {
      "text/plain": [
       "The number of minimal forts of g is 15    \n",
       "Minimal forts of g are [{0, 1}, {0, 2}, {1, 2}, {6, 7}, {8, 6}, {8, 7}, {0, 3, 5, 6}, {0, 3, 5, 7}, {0, 8, 3, 5}, {1, 3, 5, 6}, {1, 3, 5, 7}, {8, 1, 3, 5}, {2, 3, 5, 6}, {2, 3, 5, 7}, {8, 2, 3, 5}]    "
      ]
     },
     "execution_count": 1,
     "metadata": {},
     "output_type": "execute_result"
    }
   ],
   "source": [
    "#g=graphs.PetersenGraph();\n",
    "#g=Graph({2:[1,3,4,5],5:[6,7,8],6:[7,8],8:[7,9],9:[0,10]});show(g);\n",
    "#g=graphs.CycleGraph(5);show(g);\n",
    "g=graphs.BarbellGraph(4, 1);g.show()\n",
    "n=g.order();V=Set(range(0,n));#V.list()\n",
    "S2=Subsets(V);\n",
    "A=g.adjacency_matrix();#A\n",
    "F=[];\n",
    "for W in S2:\n",
    "    if W.cardinality()>1:\n",
    "        D=[];\n",
    "        for j in V-W:\n",
    "            d=0;\n",
    "            for k in W:\n",
    "                if A[j,k]==1:\n",
    "                    d+=1; \n",
    "            D.append(d) \n",
    "        s=0;\n",
    "        #print D\n",
    "        for i in D: \n",
    "            if i==1:\n",
    "                s+=1;\n",
    "        #print s        \n",
    "        if s==0:\n",
    "            F.append(W);\n",
    "        #print\"****************\" \n",
    "MF=[];\n",
    "for w in F:\n",
    "    r=0;\n",
    "    for f in Subsets(w):\n",
    "        if f.cardinality()<w.cardinality() and f in F:\n",
    "            r+=1;\n",
    "    if r==0:\n",
    "        MF.append(w);    \n",
    "print\"The number of minimal forts of g is\", len(MF)        \n",
    "print\"Minimal forts of g are\", MF"
   ]
  },
  {
   "cell_type": "code",
   "execution_count": null,
   "id": "542453c2",
   "metadata": {},
   "outputs": [
    {
     "data": {
      "text/plain": [
       "The number of minimal forts of g is 15    \n",
       "Minimal forts of g are [{0, 1}, {0, 2}, {1, 2}, {5, 6}, {5, 7}, {6, 7}, {0, 3, 4, 5}, {0, 3, 4, 6}, {0, 3, 4, 7}, {1, 3, 4, 5}, {1, 3, 4, 6}, {1, 3, 4, 7}, {2, 3, 4, 5}, {2, 3, 4, 6}, {2, 3, 4, 7}]    "
      ]
     },
     "execution_count": 1,
     "metadata": {},
     "output_type": "execute_result"
    }
   ],
   "source": [
    "#g=graphs.PetersenGraph();\n",
    "#g=Graph({2:[1,3,4,5],5:[6,7,8],6:[7,8],8:[7,9],9:[0,10]});show(g);\n",
    "#g=graphs.CycleGraph(5);show(g);\n",
    "g=graphs.BarbellGraph(4, 0);g.show()\n",
    "n=g.order();V=Set(range(0,n));#V.list()\n",
    "S2=Subsets(V);\n",
    "A=g.adjacency_matrix();#A\n",
    "F=[];\n",
    "for W in S2:\n",
    "    if W.cardinality()>1:\n",
    "        D=[];\n",
    "        for j in V-W:\n",
    "            d=0;\n",
    "            for k in W:\n",
    "                if A[j,k]==1:\n",
    "                    d+=1; \n",
    "            D.append(d) \n",
    "        s=0;\n",
    "        #print D\n",
    "        for i in D: \n",
    "            if i==1:\n",
    "                s+=1;\n",
    "        #print s        \n",
    "        if s==0:\n",
    "            F.append(W);\n",
    "        #print\"****************\" \n",
    "MF=[];\n",
    "for w in F:\n",
    "    r=0;\n",
    "    for f in Subsets(w):\n",
    "        if f.cardinality()<w.cardinality() and f in F:\n",
    "            r+=1;\n",
    "    if r==0:\n",
    "        MF.append(w);    \n",
    "print\"The number of minimal forts of g is\", len(MF)        \n",
    "print\"Minimal forts of g are\", MF"
   ]
  },
  {
   "cell_type": "code",
   "execution_count": null,
   "id": "f0890494",
   "metadata": {},
   "outputs": [
    {
     "data": {
      "text/plain": [
       "The number of minimal forts of g is 6    \n",
       "Minimal forts of g are [{0, 1}, {4, 5}, {0, 2, 3, 4}, {0, 2, 3, 5}, {1, 2, 3, 4}, {1, 2, 3, 5}]    "
      ]
     },
     "execution_count": 1,
     "metadata": {},
     "output_type": "execute_result"
    }
   ],
   "source": [
    "#g=graphs.PetersenGraph();\n",
    "#g=Graph({2:[1,3,4,5],5:[6,7,8],6:[7,8],8:[7,9],9:[0,10]});show(g);\n",
    "#g=graphs.CycleGraph(5);show(g);\n",
    "g=graphs.BarbellGraph(3, 0);g.show()\n",
    "n=g.order();V=Set(range(0,n));#V.list()\n",
    "S2=Subsets(V);\n",
    "A=g.adjacency_matrix();#A\n",
    "F=[];\n",
    "for W in S2:\n",
    "    if W.cardinality()>1:\n",
    "        D=[];\n",
    "        for j in V-W:\n",
    "            d=0;\n",
    "            for k in W:\n",
    "                if A[j,k]==1:\n",
    "                    d+=1; \n",
    "            D.append(d) \n",
    "        s=0;\n",
    "        #print D\n",
    "        for i in D: \n",
    "            if i==1:\n",
    "                s+=1;\n",
    "        #print s        \n",
    "        if s==0:\n",
    "            F.append(W);\n",
    "        #print\"****************\" \n",
    "MF=[];\n",
    "for w in F:\n",
    "    r=0;\n",
    "    for f in Subsets(w):\n",
    "        if f.cardinality()<w.cardinality() and f in F:\n",
    "            r+=1;\n",
    "    if r==0:\n",
    "        MF.append(w);    \n",
    "print\"The number of minimal forts of g is\", len(MF)        \n",
    "print\"Minimal forts of g are\", MF"
   ]
  },
  {
   "cell_type": "code",
   "execution_count": null,
   "id": "d2f1d5bd",
   "metadata": {},
   "outputs": [
    {
     "data": {
      "text/plain": [
       "The number of minimal forts of g is 15    \n",
       "Minimal forts of g are [{0, 1}, {0, 2}, {1, 2}, {3, 4}, {3, 5}, {4, 5}, {0, 3, 6}, {0, 4, 6}, {0, 5, 6}, {1, 3, 6}, {1, 4, 6}, {1, 5, 6}, {2, 3, 6}, {2, 4, 6}, {2, 5, 6}]    "
      ]
     },
     "execution_count": 1,
     "metadata": {},
     "output_type": "execute_result"
    }
   ],
   "source": [
    "#g=graphs.PetersenGraph();\n",
    "g=Graph({2:[1,0],0:[1],3:[4,5],4:[5], 6:[0,1,2,3,4,5]});show(g);\n",
    "#g=graphs.CycleGraph(5);show(g);\n",
    "n=g.order();V=Set(range(0,n));#V.list()\n",
    "S2=Subsets(V);\n",
    "A=g.adjacency_matrix();#A\n",
    "F=[];\n",
    "for W in S2:\n",
    "    if W.cardinality()>1:\n",
    "        D=[];\n",
    "        for j in V-W:\n",
    "            d=0;\n",
    "            for k in W:\n",
    "                if A[j,k]==1:\n",
    "                    d+=1; \n",
    "            D.append(d) \n",
    "        s=0;\n",
    "        #print D\n",
    "        for i in D: \n",
    "            if i==1:\n",
    "                s+=1;\n",
    "        #print s        \n",
    "        if s==0:\n",
    "            F.append(W);\n",
    "        #print\"****************\" \n",
    "MF=[];\n",
    "for w in F:\n",
    "    r=0;\n",
    "    for f in Subsets(w):\n",
    "        if f.cardinality()<w.cardinality() and f in F:\n",
    "            r+=1;\n",
    "    if r==0:\n",
    "        MF.append(w);    \n",
    "print\"The number of minimal forts of g is\", len(MF)        \n",
    "print\"Minimal forts of g are\", MF"
   ]
  },
  {
   "cell_type": "code",
   "execution_count": null,
   "id": "5895b747",
   "metadata": {},
   "outputs": [
    {
     "data": {
      "text/plain": [
       "[3.645751311064591?, 2, -1, -1, -1, -1, -1.645751311064591?]    "
      ]
     },
     "execution_count": 1,
     "metadata": {},
     "output_type": "execute_result"
    }
   ],
   "source": [
    "g.spectrum()"
   ]
  },
  {
   "cell_type": "markdown",
   "id": "79c69a39",
   "metadata": {},
   "source": [
    "Z=Z\\*=ft=2"
   ]
  },
  {
   "cell_type": "code",
   "execution_count": null,
   "id": "6c493398",
   "metadata": {},
   "outputs": [
    {
     "data": {
      "text/plain": [
       "The number of minimal forts of g is 5    \n",
       "Minimal forts of g are [{0, 4, 5}, {1, 2, 3}, {0, 1, 3, 5}, {0, 2, 3, 4}, {1, 2, 4, 5}]    "
      ]
     },
     "execution_count": 1,
     "metadata": {},
     "output_type": "execute_result"
    }
   ],
   "source": [
    "#g=graphs.PetersenGraph();\n",
    "g=Graph({0:[1,3,2],3:[4,5],1:[4],2:[5]});show(g);\n",
    "#g=graphs.CycleGraph(5);show(g);\n",
    "#g=graphs.BarbellGraph(3, 0);g.show()\n",
    "n=g.order();V=Set(range(0,n));#V.list()\n",
    "S2=Subsets(V);\n",
    "A=g.adjacency_matrix();#A\n",
    "F=[];\n",
    "for W in S2:\n",
    "    if W.cardinality()>1:\n",
    "        D=[];\n",
    "        for j in V-W:\n",
    "            d=0;\n",
    "            for k in W:\n",
    "                if A[j,k]==1:\n",
    "                    d+=1; \n",
    "            D.append(d) \n",
    "        s=0;\n",
    "        #print D\n",
    "        for i in D: \n",
    "            if i==1:\n",
    "                s+=1;\n",
    "        #print s        \n",
    "        if s==0:\n",
    "            F.append(W);\n",
    "        #print\"****************\" \n",
    "MF=[];\n",
    "for w in F:\n",
    "    r=0;\n",
    "    for f in Subsets(w):\n",
    "        if f.cardinality()<w.cardinality() and f in F:\n",
    "            r+=1;\n",
    "    if r==0:\n",
    "        MF.append(w);    \n",
    "print\"The number of minimal forts of g is\", len(MF)        \n",
    "print\"Minimal forts of g are\", MF"
   ]
  },
  {
   "cell_type": "markdown",
   "id": "571ca455",
   "metadata": {},
   "source": [
    "Petersen Graph"
   ]
  },
  {
   "cell_type": "code",
   "execution_count": null,
   "id": "56c3e663",
   "metadata": {},
   "outputs": [
    {
     "data": {
      "text/plain": [
       "The number of minimal forts of g is 20    \n",
       "Minimal forts of g are [{0, 1, 3, 8}, {0, 1, 9, 7}, {0, 2, 3, 5}, {0, 2, 4, 7}, {0, 8, 2, 9}, {0, 3, 6, 7}, {0, 8, 4, 6}, {0, 9, 5, 6}, {1, 2, 4, 9}, {8, 1, 2, 5}, {1, 3, 4, 6}, {1, 3, 5, 9}, {8, 1, 4, 7}, {1, 5, 6, 7}, {9, 2, 3, 6}, {2, 4, 5, 6}, {8, 2, 6, 7}, {3, 4, 5, 7}, {8, 9, 3, 7}, {8, 9, 4, 5}]    "
      ]
     },
     "execution_count": 1,
     "metadata": {},
     "output_type": "execute_result"
    }
   ],
   "source": [
    "g=graphs.PetersenGraph();\n",
    "#g=Graph({0:[1,6],2:[0,3,4],4:[5,7]});show(g);\n",
    "n=g.order();V=Set(range(0,n));#V.list()\n",
    "S2=Subsets(V);\n",
    "A=g.adjacency_matrix();#A\n",
    "F=[];\n",
    "for W in S2:\n",
    "    if W.cardinality()>1:\n",
    "        D=[];\n",
    "        for j in V-W:\n",
    "            d=0;\n",
    "            for k in W:\n",
    "                if A[j,k]==1:\n",
    "                    d+=1; \n",
    "            D.append(d) \n",
    "        s=0;\n",
    "        #print D\n",
    "        for i in D: \n",
    "            if i==1:\n",
    "                s+=1;\n",
    "        #print s        \n",
    "        if s==0:\n",
    "            F.append(W);\n",
    "        #print\"****************\" \n",
    "MF=[];\n",
    "for w in F:\n",
    "    r=0;\n",
    "    for f in Subsets(w):\n",
    "        if f.cardinality()<w.cardinality() and f in F:\n",
    "            r+=1;\n",
    "    if r==0:\n",
    "        MF.append(w);    \n",
    "print\"The number of minimal forts of g is\", len(MF)            \n",
    "print\"Minimal forts of g are\", MF"
   ]
  },
  {
   "cell_type": "code",
   "execution_count": null,
   "id": "7986b196",
   "metadata": {},
   "outputs": [
    {
     "data": {
      "text/plain": [
       "[{0, 1, 3, 8},    \n",
       " {0, 1, 9, 7},    \n",
       " {0, 2, 3, 5},    \n",
       " {0, 2, 4, 7},    \n",
       " {0, 8, 2, 9},    \n",
       " {0, 3, 6, 7},    \n",
       " {0, 8, 4, 6},    \n",
       " {0, 9, 5, 6},    \n",
       " {1, 2, 4, 9},    \n",
       " {8, 1, 2, 5},    \n",
       " {1, 3, 4, 6},    \n",
       " {1, 3, 5, 9},    \n",
       " {8, 1, 4, 7},    \n",
       " {1, 5, 6, 7},    \n",
       " {9, 2, 3, 6},    \n",
       " {2, 4, 5, 6},    \n",
       " {8, 2, 6, 7},    \n",
       " {3, 4, 5, 7},    \n",
       " {8, 9, 3, 7},    \n",
       " {8, 9, 4, 5}]    "
      ]
     },
     "execution_count": 1,
     "metadata": {},
     "output_type": "execute_result"
    }
   ],
   "source": [
    "MF"
   ]
  },
  {
   "cell_type": "code",
   "execution_count": null,
   "id": "da71020e",
   "metadata": {},
   "outputs": [],
   "source": [
    "g=Graph({2:[1,0],0:[1],3:[4,5],4:[5], 6:[0,1,2,3,4,5]});show(g);"
   ]
  },
  {
   "cell_type": "code",
   "execution_count": null,
   "id": "c2971a49",
   "metadata": {},
   "outputs": [
    {
     "data": {
      "text/plain": [
       "zero forcing of g is  (5, [0, 3, 4, 6, 8], 26)    "
      ]
     },
     "execution_count": 1,
     "metadata": {},
     "output_type": "execute_result"
    }
   ],
   "source": [
    "print\"zero forcing of g is \", zero_forcing_set_wavefront(g);"
   ]
  },
  {
   "cell_type": "code",
   "execution_count": null,
   "id": "390c1698",
   "metadata": {},
   "outputs": [
    {
     "data": {
      "text/plain": [
       "Z_q for q= 0 is 5    "
      ]
     },
     "execution_count": 1,
     "metadata": {},
     "output_type": "execute_result"
    }
   ],
   "source": [
    "print\"Z_q\", \"for q=\", 0, \"is\", Zplus(g, return_track=False)"
   ]
  },
  {
   "cell_type": "code",
   "execution_count": null,
   "id": "77fbaf84",
   "metadata": {},
   "outputs": [
    {
     "data": {
      "text/plain": [
       "Z_q for q= 1 is 5    \n",
       "Z_q for q= 2 is 5    \n",
       "Z_q for q= 3 is 5    \n",
       "Z_q for q= 4 is 5    \n",
       "Z_q for q= 5 is 5    "
      ]
     },
     "execution_count": 1,
     "metadata": {},
     "output_type": "execute_result"
    }
   ],
   "source": [
    "for q in range(1,n+1):\n",
    "    if Zq_compute(g,q, return_track=False)>=q:\n",
    "        print\"Z_q\", \"for q=\", q, \"is\", Zq_compute(g,q, return_track=False)\n",
    "    else:\n",
    "        break"
   ]
  },
  {
   "cell_type": "code",
   "execution_count": null,
   "id": "7d8db7c2",
   "metadata": {},
   "outputs": [],
   "source": [
    "def has_minor(G, H):\n",
    "    try:\n",
    "        m = G.minor(H)\n",
    "        return True\n",
    "    except ValueError: \n",
    "        return False"
   ]
  },
  {
   "cell_type": "code",
   "execution_count": null,
   "id": "6d744904",
   "metadata": {},
   "outputs": [],
   "source": [
    "g=graphs.CompleteBipartiteGraph(3, 3)"
   ]
  },
  {
   "cell_type": "code",
   "execution_count": null,
   "id": "a562fc9a",
   "metadata": {},
   "outputs": [
    {
     "data": {
      "text/plain": [
       "True    "
      ]
     },
     "execution_count": 1,
     "metadata": {},
     "output_type": "execute_result"
    }
   ],
   "source": [
    "has_minor(g, graphs.CompleteGraph(4))"
   ]
  },
  {
   "cell_type": "code",
   "execution_count": null,
   "id": "51da16e7",
   "metadata": {},
   "outputs": [
    {
     "data": {
      "text/plain": [
       "False    "
      ]
     },
     "execution_count": 1,
     "metadata": {},
     "output_type": "execute_result"
    }
   ],
   "source": [
    "has_minor(g, graphs.CompleteGraph(7))"
   ]
  },
  {
   "cell_type": "code",
   "execution_count": null,
   "id": "4698abca",
   "metadata": {},
   "outputs": [],
   "source": [
    "graphs.DurerGraph().show()"
   ]
  },
  {
   "cell_type": "code",
   "execution_count": null,
   "id": "5f010184",
   "metadata": {},
   "outputs": [
    {
     "data": {
      "text/plain": [
       "the vertex  (0, 0) is labeled by  0    \n",
       "the vertex  (0, 1) is labeled by  1    \n",
       "the vertex  (0, 2) is labeled by  2    \n",
       "the vertex  (1, 0) is labeled by  3    \n",
       "the vertex  (1, 1) is labeled by  4    \n",
       "the vertex  (1, 2) is labeled by  5    \n",
       "the vertex  (2, 0) is labeled by  6    \n",
       "the vertex  (2, 1) is labeled by  7    \n",
       "the vertex  (2, 2) is labeled by  8    \n",
       "the vertex  (3, 0) is labeled by  9    \n",
       "the vertex  (3, 1) is labeled by  10    \n",
       "the vertex  (3, 2) is labeled by  11    "
      ]
     },
     "execution_count": 1,
     "metadata": {},
     "output_type": "execute_result"
    }
   ],
   "source": [
    "k=0;\n",
    "for i in g.vertices():\n",
    "    print\"the vertex \", i, \"is labeled by \",k;\n",
    "    k+=1;"
   ]
  },
  {
   "cell_type": "code",
   "execution_count": null,
   "id": "b0384bbf",
   "metadata": {},
   "outputs": [
    {
     "data": {
      "text/plain": [
       "the number of minimal forts of g is 3    \n",
       "minimal forts of g are [{0, 1}, {0, 2}, {1, 2}]    "
      ]
     },
     "execution_count": 1,
     "metadata": {},
     "output_type": "execute_result"
    }
   ],
   "source": [
    "g=graphs.CycleGraph(3);\n",
    "n=g.order();V=Set(range(0,n));#V.list()\n",
    "S2=Subsets(V);\n",
    "A=g.adjacency_matrix();#A\n",
    "F=[];\n",
    "for W in S2:\n",
    "    if W.cardinality()>1:\n",
    "        D=[];\n",
    "        for j in V-W:\n",
    "            d=0;\n",
    "            for k in W:\n",
    "                if A[j,k]==1:\n",
    "                    d+=1; \n",
    "            D.append(d) \n",
    "        s=0;\n",
    "        #print D\n",
    "        for i in D: \n",
    "            if i==1:\n",
    "                s+=1;\n",
    "        #print s        \n",
    "        if s==0:\n",
    "            F.append(W);\n",
    "        #print\"****************\" \n",
    "MF=[];\n",
    "for w in F:\n",
    "    r=0;\n",
    "    for f in Subsets(w):\n",
    "        if f.cardinality()<w.cardinality() and f in F:\n",
    "            r+=1;\n",
    "    if r==0:\n",
    "        MF.append(w);    \n",
    "print\"the number of minimal forts of g is\", len(MF)            \n",
    "print\"minimal forts of g are\", MF"
   ]
  },
  {
   "cell_type": "code",
   "execution_count": null,
   "id": "cee17f11",
   "metadata": {},
   "outputs": [
    {
     "data": {
      "text/plain": [
       "the number of minimal forts of g is 2    \n",
       "minimal forts of g are [{0, 2}, {1, 3}]    "
      ]
     },
     "execution_count": 1,
     "metadata": {},
     "output_type": "execute_result"
    }
   ],
   "source": [
    "g=graphs.CycleGraph(4);\n",
    "n=g.order();V=Set(range(0,n));#V.list()\n",
    "S2=Subsets(V);\n",
    "A=g.adjacency_matrix();#A\n",
    "F=[];\n",
    "for W in S2:\n",
    "    if W.cardinality()>1:\n",
    "        D=[];\n",
    "        for j in V-W:\n",
    "            d=0;\n",
    "            for k in W:\n",
    "                if A[j,k]==1:\n",
    "                    d+=1; \n",
    "            D.append(d) \n",
    "        s=0;\n",
    "        #print D\n",
    "        for i in D: \n",
    "            if i==1:\n",
    "                s+=1;\n",
    "        #print s        \n",
    "        if s==0:\n",
    "            F.append(W);\n",
    "        #print\"****************\" \n",
    "MF=[];\n",
    "for w in F:\n",
    "    r=0;\n",
    "    for f in Subsets(w):\n",
    "        if f.cardinality()<w.cardinality() and f in F:\n",
    "            r+=1;\n",
    "    if r==0:\n",
    "        MF.append(w);    \n",
    "print\"the number of minimal forts of g is\", len(MF)            \n",
    "print\"minimal forts of g are\", MF"
   ]
  },
  {
   "cell_type": "code",
   "execution_count": null,
   "id": "89ee274b",
   "metadata": {},
   "outputs": [],
   "source": [
    "g = Graph([(1, 2), (2, 3), (4, 3), (5, 4), (1, 5), (1, 6), (2, 7), (3, 8), (4, 9),(5,0),(9,10),(10,11),(10,13),(13,16),(13,14),(14,17),(14,15),(15,18),(15,11),(11,12)]);\n",
    "n=g.order();V=Set(range(0,n));#V.list()\n",
    "S2=Subsets(V);\n",
    "A=g.adjacency_matrix();#A\n",
    "F=[];\n",
    "for W in S2:\n",
    "    if W.cardinality()>1:\n",
    "        D=[];\n",
    "        for j in V-W:\n",
    "            d=0;\n",
    "            for k in W:\n",
    "                if A[j,k]==1:\n",
    "                    d+=1; \n",
    "            D.append(d) \n",
    "        s=0;\n",
    "        #print D\n",
    "        for i in D: \n",
    "            if i==1:\n",
    "                s+=1;\n",
    "        #print s        \n",
    "        if s==0:\n",
    "            F.append(W);\n",
    "        #print\"****************\" \n",
    "MF=[];\n",
    "for w in F:\n",
    "    r=0;\n",
    "    for f in Subsets(w):\n",
    "        if f.cardinality()<w.cardinality() and f in F:\n",
    "            r+=1;\n",
    "    if r==0:\n",
    "        MF.append(w);    \n",
    "print\"the number of minimal forts of g is\", len(MF)            \n",
    "print\"minimal forts of g are\", MF"
   ]
  },
  {
   "cell_type": "code",
   "execution_count": null,
   "id": "5f8dd284",
   "metadata": {},
   "outputs": [
    {
     "data": {
      "text/plain": [
       "[0, 1, 2, 3, 4, 5, 6, 7, 8, 9, 10, 11]    "
      ]
     },
     "execution_count": 1,
     "metadata": {},
     "output_type": "execute_result"
    }
   ],
   "source": [
    "n=g.order();V=Set(range(0,n));V.list()"
   ]
  },
  {
   "cell_type": "code",
   "execution_count": null,
   "id": "4280702d",
   "metadata": {},
   "outputs": [],
   "source": [
    "S2=Subsets(V);#S2.list()"
   ]
  },
  {
   "cell_type": "code",
   "execution_count": null,
   "id": "c746ae01",
   "metadata": {},
   "outputs": [
    {
     "data": {
      "text/plain": [
       "[0 1 1 1 1 1 1 1 0 0 0 0]    \n",
       "[1 0 1 1 1 1 1 1 0 0 0 0]    \n",
       "[1 1 0 1 1 0 0 0 1 1 1 1]    \n",
       "[1 1 1 0 1 0 0 0 1 1 1 1]    \n",
       "[1 1 1 1 0 0 0 0 1 1 1 1]    \n",
       "[1 1 0 0 0 0 0 0 0 0 0 0]    \n",
       "[1 1 0 0 0 0 0 0 0 0 0 0]    \n",
       "[1 1 0 0 0 0 0 0 0 0 0 0]    \n",
       "[0 0 1 1 1 0 0 0 0 0 0 0]    \n",
       "[0 0 1 1 1 0 0 0 0 0 0 0]    \n",
       "[0 0 1 1 1 0 0 0 0 0 0 0]    \n",
       "[0 0 1 1 1 0 0 0 0 0 0 0]    "
      ]
     },
     "execution_count": 1,
     "metadata": {},
     "output_type": "execute_result"
    }
   ],
   "source": [
    "A=g.adjacency_matrix();A"
   ]
  },
  {
   "cell_type": "code",
   "execution_count": null,
   "id": "d2f43078",
   "metadata": {},
   "outputs": [
    {
     "data": {
      "text/plain": [
       "WARNING: Output truncated!      \n",
       "<html>...</html>\n",
       "\n",
       "\n",
       "\n",
       "[{0, 1},    \n",
       " {2, 3},    \n",
       " {2, 4},    \n",
       " {3, 4},    \n",
       " {5, 6},    \n",
       " {5, 7},    \n",
       " {6, 7},    \n",
       " {8, 9},    \n",
       " {8, 10},    \n",
       " {8, 11},    \n",
       " {9, 10},    \n",
       " {9, 11},    \n",
       " {10, 11},    \n",
       " {0, 1, 5},    \n",
       " {0, 1, 6},    \n",
       " {0, 1, 7},    \n",
       " {0, 1, 8},    \n",
       " {0, 1, 9},    \n",
       " {0, 1, 10},    \n",
       " {0, 1, 11},    \n",
       " {2, 3, 4},    \n",
       " {2, 3, 5},    \n",
       " {2, 3, 6},    \n",
       " {2, 3, 7},    \n",
       " {8, 2, 3},    \n",
       " {9, 2, 3},    \n",
       " {2, 3, 10},    \n",
       " {11, 2, 3},    \n",
       " {2, 4, 5},    \n",
       " {2, 4, 6},    \n",
       " {2, 4, 7},    \n",
       " {8, 2, 4},    \n",
       " {9, 2, 4},    \n",
       " {2, 4, 10},    \n",
       " {2, 11, 4},    \n",
       " {3, 4, 5},    \n",
       " {3, 4, 6},    \n",
       " {3, 4, 7},    \n",
       " {8, 3, 4},    \n",
       " {9, 3, 4},    \n",
       " {10, 3, 4},    \n",
       " {11, 3, 4},    \n",
       " {5, 6, 7},    \n",
       " {8, 9, 10},    \n",
       " {8, 9, 11},    \n",
       " {8, 10, 11},    \n",
       " {9, 10, 11},    \n",
       " {0, 1, 2, 3},    \n",
       " {0, 1, 2, 4},    \n",
       " {0, 1, 3, 4},    \n",
       " {0, 1, 5, 6},    \n",
       " {0, 1, 5, 7},    \n",
       " {0, 1, 5, 8},    \n",
       " {0, 1, 5, 9},    \n",
       " {0, 1, 10, 5},    \n",
       " {0, 1, 11, 5},    \n",
       " {0, 1, 6, 7},    \n",
       " {0, 1, 6, 8},    \n",
       " {0, 1, 6, 9},    \n",
       "\n",
       "...    \n",
       "\n",
       " {0, 1, 2, 3, 4, 5, 7, 9, 10, 11},    \n",
       " {0, 1, 2, 3, 4, 5, 8, 9, 10, 11},    \n",
       " {0, 1, 2, 3, 4, 6, 7, 8, 9, 10},    \n",
       " {0, 1, 2, 3, 4, 6, 7, 8, 9, 11},    \n",
       " {0, 1, 2, 3, 4, 6, 7, 8, 10, 11},    \n",
       " {0, 1, 2, 3, 4, 6, 7, 9, 10, 11},    \n",
       " {0, 1, 2, 3, 4, 6, 8, 9, 10, 11},    \n",
       " {0, 1, 2, 3, 4, 7, 8, 9, 10, 11},    \n",
       " {0, 1, 2, 3, 5, 6, 7, 8, 9, 10},    \n",
       " {0, 1, 2, 3, 5, 6, 7, 8, 9, 11},    \n",
       " {0, 1, 2, 3, 5, 6, 7, 8, 10, 11},    \n",
       " {0, 1, 2, 3, 5, 6, 7, 9, 10, 11},    \n",
       " {0, 1, 2, 3, 5, 6, 8, 9, 10, 11},    \n",
       " {0, 1, 2, 3, 5, 7, 8, 9, 10, 11},    \n",
       " {0, 1, 2, 3, 6, 7, 8, 9, 10, 11},    \n",
       " {0, 1, 2, 4, 5, 6, 7, 8, 9, 10},    \n",
       " {0, 1, 2, 4, 5, 6, 7, 8, 9, 11},    \n",
       " {0, 1, 2, 4, 5, 6, 7, 8, 10, 11},    \n",
       " {0, 1, 2, 4, 5, 6, 7, 9, 10, 11},    \n",
       " {0, 1, 2, 4, 5, 6, 8, 9, 10, 11},    \n",
       " {0, 1, 2, 4, 5, 7, 8, 9, 10, 11},    \n",
       " {0, 1, 2, 4, 6, 7, 8, 9, 10, 11},    \n",
       " {0, 1, 2, 5, 6, 7, 8, 9, 10, 11},    \n",
       " {0, 1, 3, 4, 5, 6, 7, 8, 9, 10},    \n",
       " {0, 1, 3, 4, 5, 6, 7, 8, 9, 11},    \n",
       " {0, 1, 3, 4, 5, 6, 7, 8, 10, 11},    \n",
       " {0, 1, 3, 4, 5, 6, 7, 9, 10, 11},    \n",
       " {0, 1, 3, 4, 5, 6, 8, 9, 10, 11},    \n",
       " {0, 1, 3, 4, 5, 7, 8, 9, 10, 11},    \n",
       " {0, 1, 3, 4, 6, 7, 8, 9, 10, 11},    \n",
       " {0, 1, 3, 5, 6, 7, 8, 9, 10, 11},    \n",
       " {0, 1, 4, 5, 6, 7, 8, 9, 10, 11},    \n",
       " {0, 2, 3, 4, 5, 6, 7, 8, 9, 10},    \n",
       " {0, 2, 3, 4, 5, 6, 7, 8, 9, 11},    \n",
       " {0, 2, 3, 4, 5, 6, 7, 8, 10, 11},    \n",
       " {0, 2, 3, 4, 5, 6, 7, 9, 10, 11},    \n",
       " {0, 2, 3, 5, 6, 7, 8, 9, 10, 11},    \n",
       " {0, 2, 4, 5, 6, 7, 8, 9, 10, 11},    \n",
       " {0, 3, 4, 5, 6, 7, 8, 9, 10, 11},    \n",
       " {1, 2, 3, 4, 5, 6, 7, 8, 9, 10},    \n",
       " {1, 2, 3, 4, 5, 6, 7, 8, 9, 11},    \n",
       " {1, 2, 3, 4, 5, 6, 7, 8, 10, 11},    \n",
       " {1, 2, 3, 4, 5, 6, 7, 9, 10, 11},    \n",
       " {1, 2, 3, 5, 6, 7, 8, 9, 10, 11},    \n",
       " {1, 2, 4, 5, 6, 7, 8, 9, 10, 11},    \n",
       " {1, 3, 4, 5, 6, 7, 8, 9, 10, 11},    \n",
       " {2, 3, 4, 5, 6, 7, 8, 9, 10, 11},    \n",
       " {0, 1, 2, 3, 4, 5, 6, 7, 8, 9, 10},    \n",
       " {0, 1, 2, 3, 4, 5, 6, 7, 8, 9, 11},    \n",
       " {0, 1, 2, 3, 4, 5, 6, 7, 8, 10, 11},    \n",
       " {0, 1, 2, 3, 4, 5, 6, 7, 9, 10, 11},    \n",
       " {0, 1, 2, 3, 4, 5, 6, 8, 9, 10, 11},    \n",
       " {0, 1, 2, 3, 4, 5, 7, 8, 9, 10, 11},    \n",
       " {0, 1, 2, 3, 4, 6, 7, 8, 9, 10, 11},    \n",
       " {0, 1, 2, 3, 5, 6, 7, 8, 9, 10, 11},    \n",
       " {0, 1, 2, 4, 5, 6, 7, 8, 9, 10, 11},    \n",
       " {0, 1, 3, 4, 5, 6, 7, 8, 9, 10, 11},    \n",
       " {0, 2, 3, 4, 5, 6, 7, 8, 9, 10, 11},    \n",
       " {1, 2, 3, 4, 5, 6, 7, 8, 9, 10, 11},    \n",
       " {0, 1, 2, 3, 4, 5, 6, 7, 8, 9, 10, 11}]    "
      ]
     },
     "execution_count": 1,
     "metadata": {},
     "output_type": "execute_result"
    }
   ],
   "source": [
    "F=[];\n",
    "for W in S2:\n",
    "    if W.cardinality()>1:\n",
    "        D=[];\n",
    "        for j in V-W:\n",
    "            d=0;\n",
    "            for k in W:\n",
    "                if A[j,k]==1:\n",
    "                    d+=1; \n",
    "            D.append(d) \n",
    "        s=0;\n",
    "        #print D\n",
    "        for i in D: \n",
    "            if i==1:\n",
    "                s+=1;\n",
    "        #print s        \n",
    "        if s==0:\n",
    "            F.append(W);\n",
    "        #print\"****************\"    \n",
    "                    \n",
    "F"
   ]
  },
  {
   "cell_type": "code",
   "execution_count": null,
   "id": "a503d338",
   "metadata": {},
   "outputs": [
    {
     "data": {
      "text/plain": [
       "[{0, 1},    \n",
       " {2, 3},    \n",
       " {2, 4},    \n",
       " {3, 4},    \n",
       " {5, 6},    \n",
       " {5, 7},    \n",
       " {6, 7},    \n",
       " {8, 9},    \n",
       " {8, 10},    \n",
       " {8, 11},    \n",
       " {9, 10},    \n",
       " {9, 11},    \n",
       " {10, 11}]    "
      ]
     },
     "execution_count": 1,
     "metadata": {},
     "output_type": "execute_result"
    }
   ],
   "source": [
    "MF=[];\n",
    "for w in F:\n",
    "    r=0;\n",
    "    for f in Subsets(w):\n",
    "        if f.cardinality()<w.cardinality() and f in F:\n",
    "            r+=1;\n",
    "    if r==0:\n",
    "        MF.append(w);    \n",
    "            \n",
    "MF"
   ]
  }
 ],
 "metadata": {
  "kernelspec": {
   "display_name": "SageMath 10.4",
   "language": "sage",
   "name": "sagemath"
  },
  "language_info": {
   "codemirror_mode": {
    "name": "ipython",
    "version": 3
   },
   "file_extension": ".py",
   "mimetype": "text/x-python",
   "name": "python",
   "nbconvert_exporter": "python",
   "pygments_lexer": "ipython3",
   "version": "3.12.4"
  }
 },
 "nbformat": 4,
 "nbformat_minor": 5
}
